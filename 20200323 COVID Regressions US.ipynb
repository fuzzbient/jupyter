{
 "cells": [
  {
   "cell_type": "markdown",
   "metadata": {},
   "source": [
    "# COVID-19 Time Series CSV Analysis US"
   ]
  },
  {
   "cell_type": "code",
   "execution_count": 135,
   "metadata": {},
   "outputs": [
    {
     "data": {
      "text/plain": [
       "('Documents/time_series_covid19_confirmed_global.csv',\n",
       " <http.client.HTTPMessage at 0x215edc53a88>)"
      ]
     },
     "execution_count": 135,
     "metadata": {},
     "output_type": "execute_result"
    }
   ],
   "source": [
    "import matplotlib\n",
    "\n",
    "import matplotlib.pyplot as plt\n",
    "import numpy as np\n",
    "from sklearn import datasets, linear_model\n",
    "import pandas as pd\n",
    "\n",
    "import urllib.request\n",
    "\n",
    "#See:\n",
    "#https://github.com/CSSEGISandData/COVID-19/tree/master/csse_covid_19_data/csse_covid_19_time_series\n",
    "\n",
    "#Download the latest CSV file\n",
    "urllib.request.urlretrieve('https://raw.githubusercontent.com/CSSEGISandData/COVID-19/master/csse_covid_19_data/csse_covid_19_time_series/time_series_covid19_confirmed_global.csv','Documents/time_series_covid19_confirmed_global.csv')"
   ]
  },
  {
   "cell_type": "code",
   "execution_count": 136,
   "metadata": {},
   "outputs": [
    {
     "name": "stdout",
     "output_type": "stream",
     "text": [
      "  Province/State Country/Region      Lat     Long  1/22/20  1/23/20  1/24/20  \\\n",
      "0            NaN    Afghanistan  33.0000  65.0000        0        0        0   \n",
      "1            NaN        Albania  41.1533  20.1683        0        0        0   \n",
      "2            NaN        Algeria  28.0339   1.6596        0        0        0   \n",
      "3            NaN        Andorra  42.5063   1.5218        0        0        0   \n",
      "4            NaN         Angola -11.2027  17.8739        0        0        0   \n",
      "\n",
      "   1/25/20  1/26/20  1/27/20  ...  3/15/20  3/16/20  3/17/20  3/18/20  \\\n",
      "0        0        0        0  ...       16       21       22       22   \n",
      "1        0        0        0  ...       42       51       55       59   \n",
      "2        0        0        0  ...       48       54       60       74   \n",
      "3        0        0        0  ...        1        2       39       39   \n",
      "4        0        0        0  ...        0        0        0        0   \n",
      "\n",
      "   3/19/20  3/20/20  3/21/20  3/22/20  3/23/20  3/24/20  \n",
      "0       22       24       24       40       40       74  \n",
      "1       64       70       76       89      104      123  \n",
      "2       87       90      139      201      230      264  \n",
      "3       53       75       88      113      133      164  \n",
      "4        0        1        2        2        3        3  \n",
      "\n",
      "[5 rows x 67 columns]\n"
     ]
    }
   ],
   "source": [
    "time_series_file = \"Documents/time_series_covid19_confirmed_global.csv\"\n",
    "df = pd.read_csv(time_series_file)\n",
    "print(df.head())"
   ]
  },
  {
   "cell_type": "code",
   "execution_count": 137,
   "metadata": {},
   "outputs": [
    {
     "data": {
      "text/html": [
       "<div>\n",
       "<style scoped>\n",
       "    .dataframe tbody tr th:only-of-type {\n",
       "        vertical-align: middle;\n",
       "    }\n",
       "\n",
       "    .dataframe tbody tr th {\n",
       "        vertical-align: top;\n",
       "    }\n",
       "\n",
       "    .dataframe thead th {\n",
       "        text-align: right;\n",
       "    }\n",
       "</style>\n",
       "<table border=\"1\" class=\"dataframe\">\n",
       "  <thead>\n",
       "    <tr style=\"text-align: right;\">\n",
       "      <th></th>\n",
       "      <th></th>\n",
       "      <th>Lat</th>\n",
       "      <th>Long</th>\n",
       "      <th>1/22/20</th>\n",
       "      <th>1/23/20</th>\n",
       "      <th>1/24/20</th>\n",
       "      <th>1/25/20</th>\n",
       "      <th>1/26/20</th>\n",
       "      <th>1/27/20</th>\n",
       "      <th>1/28/20</th>\n",
       "      <th>1/29/20</th>\n",
       "      <th>...</th>\n",
       "      <th>3/15/20</th>\n",
       "      <th>3/16/20</th>\n",
       "      <th>3/17/20</th>\n",
       "      <th>3/18/20</th>\n",
       "      <th>3/19/20</th>\n",
       "      <th>3/20/20</th>\n",
       "      <th>3/21/20</th>\n",
       "      <th>3/22/20</th>\n",
       "      <th>3/23/20</th>\n",
       "      <th>3/24/20</th>\n",
       "    </tr>\n",
       "    <tr>\n",
       "      <th>Province/State</th>\n",
       "      <th>Country/Region</th>\n",
       "      <th></th>\n",
       "      <th></th>\n",
       "      <th></th>\n",
       "      <th></th>\n",
       "      <th></th>\n",
       "      <th></th>\n",
       "      <th></th>\n",
       "      <th></th>\n",
       "      <th></th>\n",
       "      <th></th>\n",
       "      <th></th>\n",
       "      <th></th>\n",
       "      <th></th>\n",
       "      <th></th>\n",
       "      <th></th>\n",
       "      <th></th>\n",
       "      <th></th>\n",
       "      <th></th>\n",
       "      <th></th>\n",
       "      <th></th>\n",
       "      <th></th>\n",
       "    </tr>\n",
       "  </thead>\n",
       "  <tbody>\n",
       "    <tr>\n",
       "      <th rowspan=\"8\" valign=\"top\">NaN</th>\n",
       "      <th>Afghanistan</th>\n",
       "      <td>33.000000</td>\n",
       "      <td>65.000000</td>\n",
       "      <td>0</td>\n",
       "      <td>0</td>\n",
       "      <td>0</td>\n",
       "      <td>0</td>\n",
       "      <td>0</td>\n",
       "      <td>0</td>\n",
       "      <td>0</td>\n",
       "      <td>0</td>\n",
       "      <td>...</td>\n",
       "      <td>16</td>\n",
       "      <td>21</td>\n",
       "      <td>22</td>\n",
       "      <td>22</td>\n",
       "      <td>22</td>\n",
       "      <td>24</td>\n",
       "      <td>24</td>\n",
       "      <td>40</td>\n",
       "      <td>40</td>\n",
       "      <td>74</td>\n",
       "    </tr>\n",
       "    <tr>\n",
       "      <th>Albania</th>\n",
       "      <td>41.153300</td>\n",
       "      <td>20.168300</td>\n",
       "      <td>0</td>\n",
       "      <td>0</td>\n",
       "      <td>0</td>\n",
       "      <td>0</td>\n",
       "      <td>0</td>\n",
       "      <td>0</td>\n",
       "      <td>0</td>\n",
       "      <td>0</td>\n",
       "      <td>...</td>\n",
       "      <td>42</td>\n",
       "      <td>51</td>\n",
       "      <td>55</td>\n",
       "      <td>59</td>\n",
       "      <td>64</td>\n",
       "      <td>70</td>\n",
       "      <td>76</td>\n",
       "      <td>89</td>\n",
       "      <td>104</td>\n",
       "      <td>123</td>\n",
       "    </tr>\n",
       "    <tr>\n",
       "      <th>Algeria</th>\n",
       "      <td>28.033900</td>\n",
       "      <td>1.659600</td>\n",
       "      <td>0</td>\n",
       "      <td>0</td>\n",
       "      <td>0</td>\n",
       "      <td>0</td>\n",
       "      <td>0</td>\n",
       "      <td>0</td>\n",
       "      <td>0</td>\n",
       "      <td>0</td>\n",
       "      <td>...</td>\n",
       "      <td>48</td>\n",
       "      <td>54</td>\n",
       "      <td>60</td>\n",
       "      <td>74</td>\n",
       "      <td>87</td>\n",
       "      <td>90</td>\n",
       "      <td>139</td>\n",
       "      <td>201</td>\n",
       "      <td>230</td>\n",
       "      <td>264</td>\n",
       "    </tr>\n",
       "    <tr>\n",
       "      <th>Andorra</th>\n",
       "      <td>42.506300</td>\n",
       "      <td>1.521800</td>\n",
       "      <td>0</td>\n",
       "      <td>0</td>\n",
       "      <td>0</td>\n",
       "      <td>0</td>\n",
       "      <td>0</td>\n",
       "      <td>0</td>\n",
       "      <td>0</td>\n",
       "      <td>0</td>\n",
       "      <td>...</td>\n",
       "      <td>1</td>\n",
       "      <td>2</td>\n",
       "      <td>39</td>\n",
       "      <td>39</td>\n",
       "      <td>53</td>\n",
       "      <td>75</td>\n",
       "      <td>88</td>\n",
       "      <td>113</td>\n",
       "      <td>133</td>\n",
       "      <td>164</td>\n",
       "    </tr>\n",
       "    <tr>\n",
       "      <th>Angola</th>\n",
       "      <td>-11.202700</td>\n",
       "      <td>17.873900</td>\n",
       "      <td>0</td>\n",
       "      <td>0</td>\n",
       "      <td>0</td>\n",
       "      <td>0</td>\n",
       "      <td>0</td>\n",
       "      <td>0</td>\n",
       "      <td>0</td>\n",
       "      <td>0</td>\n",
       "      <td>...</td>\n",
       "      <td>0</td>\n",
       "      <td>0</td>\n",
       "      <td>0</td>\n",
       "      <td>0</td>\n",
       "      <td>0</td>\n",
       "      <td>1</td>\n",
       "      <td>2</td>\n",
       "      <td>2</td>\n",
       "      <td>3</td>\n",
       "      <td>3</td>\n",
       "    </tr>\n",
       "    <tr>\n",
       "      <th>...</th>\n",
       "      <td>...</td>\n",
       "      <td>...</td>\n",
       "      <td>...</td>\n",
       "      <td>...</td>\n",
       "      <td>...</td>\n",
       "      <td>...</td>\n",
       "      <td>...</td>\n",
       "      <td>...</td>\n",
       "      <td>...</td>\n",
       "      <td>...</td>\n",
       "      <td>...</td>\n",
       "      <td>...</td>\n",
       "      <td>...</td>\n",
       "      <td>...</td>\n",
       "      <td>...</td>\n",
       "      <td>...</td>\n",
       "      <td>...</td>\n",
       "      <td>...</td>\n",
       "      <td>...</td>\n",
       "      <td>...</td>\n",
       "      <td>...</td>\n",
       "    </tr>\n",
       "    <tr>\n",
       "      <th>Timor-Leste</th>\n",
       "      <td>-8.874217</td>\n",
       "      <td>125.727539</td>\n",
       "      <td>0</td>\n",
       "      <td>0</td>\n",
       "      <td>0</td>\n",
       "      <td>0</td>\n",
       "      <td>0</td>\n",
       "      <td>0</td>\n",
       "      <td>0</td>\n",
       "      <td>0</td>\n",
       "      <td>...</td>\n",
       "      <td>0</td>\n",
       "      <td>0</td>\n",
       "      <td>0</td>\n",
       "      <td>0</td>\n",
       "      <td>0</td>\n",
       "      <td>0</td>\n",
       "      <td>0</td>\n",
       "      <td>1</td>\n",
       "      <td>1</td>\n",
       "      <td>1</td>\n",
       "    </tr>\n",
       "    <tr>\n",
       "      <th>Belize</th>\n",
       "      <td>13.193900</td>\n",
       "      <td>-59.543200</td>\n",
       "      <td>0</td>\n",
       "      <td>0</td>\n",
       "      <td>0</td>\n",
       "      <td>0</td>\n",
       "      <td>0</td>\n",
       "      <td>0</td>\n",
       "      <td>0</td>\n",
       "      <td>0</td>\n",
       "      <td>...</td>\n",
       "      <td>0</td>\n",
       "      <td>0</td>\n",
       "      <td>0</td>\n",
       "      <td>0</td>\n",
       "      <td>0</td>\n",
       "      <td>0</td>\n",
       "      <td>0</td>\n",
       "      <td>0</td>\n",
       "      <td>1</td>\n",
       "      <td>1</td>\n",
       "    </tr>\n",
       "    <tr>\n",
       "      <th>Recovered</th>\n",
       "      <th>Canada</th>\n",
       "      <td>0.000000</td>\n",
       "      <td>0.000000</td>\n",
       "      <td>0</td>\n",
       "      <td>0</td>\n",
       "      <td>0</td>\n",
       "      <td>0</td>\n",
       "      <td>0</td>\n",
       "      <td>0</td>\n",
       "      <td>0</td>\n",
       "      <td>0</td>\n",
       "      <td>...</td>\n",
       "      <td>0</td>\n",
       "      <td>0</td>\n",
       "      <td>0</td>\n",
       "      <td>0</td>\n",
       "      <td>0</td>\n",
       "      <td>0</td>\n",
       "      <td>0</td>\n",
       "      <td>0</td>\n",
       "      <td>0</td>\n",
       "      <td>0</td>\n",
       "    </tr>\n",
       "    <tr>\n",
       "      <th rowspan=\"2\" valign=\"top\">NaN</th>\n",
       "      <th>Laos</th>\n",
       "      <td>19.856270</td>\n",
       "      <td>102.495496</td>\n",
       "      <td>0</td>\n",
       "      <td>0</td>\n",
       "      <td>0</td>\n",
       "      <td>0</td>\n",
       "      <td>0</td>\n",
       "      <td>0</td>\n",
       "      <td>0</td>\n",
       "      <td>0</td>\n",
       "      <td>...</td>\n",
       "      <td>0</td>\n",
       "      <td>0</td>\n",
       "      <td>0</td>\n",
       "      <td>0</td>\n",
       "      <td>0</td>\n",
       "      <td>0</td>\n",
       "      <td>0</td>\n",
       "      <td>0</td>\n",
       "      <td>0</td>\n",
       "      <td>2</td>\n",
       "    </tr>\n",
       "    <tr>\n",
       "      <th>Libya</th>\n",
       "      <td>26.335100</td>\n",
       "      <td>17.228331</td>\n",
       "      <td>0</td>\n",
       "      <td>0</td>\n",
       "      <td>0</td>\n",
       "      <td>0</td>\n",
       "      <td>0</td>\n",
       "      <td>0</td>\n",
       "      <td>0</td>\n",
       "      <td>0</td>\n",
       "      <td>...</td>\n",
       "      <td>0</td>\n",
       "      <td>0</td>\n",
       "      <td>0</td>\n",
       "      <td>0</td>\n",
       "      <td>0</td>\n",
       "      <td>0</td>\n",
       "      <td>0</td>\n",
       "      <td>0</td>\n",
       "      <td>0</td>\n",
       "      <td>1</td>\n",
       "    </tr>\n",
       "  </tbody>\n",
       "</table>\n",
       "<p>241 rows × 65 columns</p>\n",
       "</div>"
      ],
      "text/plain": [
       "                                     Lat        Long  1/22/20  1/23/20  \\\n",
       "Province/State Country/Region                                            \n",
       "NaN            Afghanistan     33.000000   65.000000        0        0   \n",
       "               Albania         41.153300   20.168300        0        0   \n",
       "               Algeria         28.033900    1.659600        0        0   \n",
       "               Andorra         42.506300    1.521800        0        0   \n",
       "               Angola         -11.202700   17.873900        0        0   \n",
       "...                                  ...         ...      ...      ...   \n",
       "               Timor-Leste     -8.874217  125.727539        0        0   \n",
       "               Belize          13.193900  -59.543200        0        0   \n",
       "Recovered      Canada           0.000000    0.000000        0        0   \n",
       "NaN            Laos            19.856270  102.495496        0        0   \n",
       "               Libya           26.335100   17.228331        0        0   \n",
       "\n",
       "                               1/24/20  1/25/20  1/26/20  1/27/20  1/28/20  \\\n",
       "Province/State Country/Region                                                \n",
       "NaN            Afghanistan           0        0        0        0        0   \n",
       "               Albania               0        0        0        0        0   \n",
       "               Algeria               0        0        0        0        0   \n",
       "               Andorra               0        0        0        0        0   \n",
       "               Angola                0        0        0        0        0   \n",
       "...                                ...      ...      ...      ...      ...   \n",
       "               Timor-Leste           0        0        0        0        0   \n",
       "               Belize                0        0        0        0        0   \n",
       "Recovered      Canada                0        0        0        0        0   \n",
       "NaN            Laos                  0        0        0        0        0   \n",
       "               Libya                 0        0        0        0        0   \n",
       "\n",
       "                               1/29/20  ...  3/15/20  3/16/20  3/17/20  \\\n",
       "Province/State Country/Region           ...                              \n",
       "NaN            Afghanistan           0  ...       16       21       22   \n",
       "               Albania               0  ...       42       51       55   \n",
       "               Algeria               0  ...       48       54       60   \n",
       "               Andorra               0  ...        1        2       39   \n",
       "               Angola                0  ...        0        0        0   \n",
       "...                                ...  ...      ...      ...      ...   \n",
       "               Timor-Leste           0  ...        0        0        0   \n",
       "               Belize                0  ...        0        0        0   \n",
       "Recovered      Canada                0  ...        0        0        0   \n",
       "NaN            Laos                  0  ...        0        0        0   \n",
       "               Libya                 0  ...        0        0        0   \n",
       "\n",
       "                               3/18/20  3/19/20  3/20/20  3/21/20  3/22/20  \\\n",
       "Province/State Country/Region                                                \n",
       "NaN            Afghanistan          22       22       24       24       40   \n",
       "               Albania              59       64       70       76       89   \n",
       "               Algeria              74       87       90      139      201   \n",
       "               Andorra              39       53       75       88      113   \n",
       "               Angola                0        0        1        2        2   \n",
       "...                                ...      ...      ...      ...      ...   \n",
       "               Timor-Leste           0        0        0        0        1   \n",
       "               Belize                0        0        0        0        0   \n",
       "Recovered      Canada                0        0        0        0        0   \n",
       "NaN            Laos                  0        0        0        0        0   \n",
       "               Libya                 0        0        0        0        0   \n",
       "\n",
       "                               3/23/20  3/24/20  \n",
       "Province/State Country/Region                    \n",
       "NaN            Afghanistan          40       74  \n",
       "               Albania             104      123  \n",
       "               Algeria             230      264  \n",
       "               Andorra             133      164  \n",
       "               Angola                3        3  \n",
       "...                                ...      ...  \n",
       "               Timor-Leste           1        1  \n",
       "               Belize                1        1  \n",
       "Recovered      Canada                0        0  \n",
       "NaN            Laos                  0        2  \n",
       "               Libya                 0        1  \n",
       "\n",
       "[241 rows x 65 columns]"
      ]
     },
     "execution_count": 137,
     "metadata": {},
     "output_type": "execute_result"
    }
   ],
   "source": [
    "df.set_index(['Province/State', 'Country/Region'])"
   ]
  },
  {
   "cell_type": "code",
   "execution_count": 138,
   "metadata": {},
   "outputs": [
    {
     "name": "stdout",
     "output_type": "stream",
     "text": [
      "['3/1/20', '3/2/20', '3/3/20', '3/4/20', '3/5/20', '3/6/20', '3/7/20', '3/8/20', '3/9/20', '3/10/20', '3/11/20', '3/12/20', '3/13/20', '3/14/20', '3/15/20', '3/16/20', '3/17/20', '3/18/20', '3/19/20', '3/20/20', '3/21/20', '3/22/20', '3/23/20', '3/24/20']\n"
     ]
    }
   ],
   "source": [
    "#Read the dates from the headers\n",
    "headers = list(df.columns.values)\n",
    "del headers[0:43]\n",
    "print(headers)"
   ]
  },
  {
   "cell_type": "code",
   "execution_count": 139,
   "metadata": {},
   "outputs": [
    {
     "data": {
      "text/html": [
       "<div>\n",
       "<style scoped>\n",
       "    .dataframe tbody tr th:only-of-type {\n",
       "        vertical-align: middle;\n",
       "    }\n",
       "\n",
       "    .dataframe tbody tr th {\n",
       "        vertical-align: top;\n",
       "    }\n",
       "\n",
       "    .dataframe thead th {\n",
       "        text-align: right;\n",
       "    }\n",
       "</style>\n",
       "<table border=\"1\" class=\"dataframe\">\n",
       "  <thead>\n",
       "    <tr style=\"text-align: right;\">\n",
       "      <th></th>\n",
       "      <th>Province/State</th>\n",
       "      <th>Country/Region</th>\n",
       "      <th>Lat</th>\n",
       "      <th>Long</th>\n",
       "      <th>1/22/20</th>\n",
       "      <th>1/23/20</th>\n",
       "      <th>1/24/20</th>\n",
       "      <th>1/25/20</th>\n",
       "      <th>1/26/20</th>\n",
       "      <th>1/27/20</th>\n",
       "      <th>...</th>\n",
       "      <th>3/15/20</th>\n",
       "      <th>3/16/20</th>\n",
       "      <th>3/17/20</th>\n",
       "      <th>3/18/20</th>\n",
       "      <th>3/19/20</th>\n",
       "      <th>3/20/20</th>\n",
       "      <th>3/21/20</th>\n",
       "      <th>3/22/20</th>\n",
       "      <th>3/23/20</th>\n",
       "      <th>3/24/20</th>\n",
       "    </tr>\n",
       "  </thead>\n",
       "  <tbody>\n",
       "    <tr>\n",
       "      <th>225</th>\n",
       "      <td>NaN</td>\n",
       "      <td>US</td>\n",
       "      <td>37.0902</td>\n",
       "      <td>-95.7129</td>\n",
       "      <td>1</td>\n",
       "      <td>1</td>\n",
       "      <td>2</td>\n",
       "      <td>2</td>\n",
       "      <td>5</td>\n",
       "      <td>5</td>\n",
       "      <td>...</td>\n",
       "      <td>3499</td>\n",
       "      <td>4632</td>\n",
       "      <td>6421</td>\n",
       "      <td>7783</td>\n",
       "      <td>13677</td>\n",
       "      <td>19100</td>\n",
       "      <td>25489</td>\n",
       "      <td>33276</td>\n",
       "      <td>43847</td>\n",
       "      <td>53740</td>\n",
       "    </tr>\n",
       "  </tbody>\n",
       "</table>\n",
       "<p>1 rows × 67 columns</p>\n",
       "</div>"
      ],
      "text/plain": [
       "    Province/State Country/Region      Lat     Long  1/22/20  1/23/20  \\\n",
       "225            NaN             US  37.0902 -95.7129        1        1   \n",
       "\n",
       "     1/24/20  1/25/20  1/26/20  1/27/20  ...  3/15/20  3/16/20  3/17/20  \\\n",
       "225        2        2        5        5  ...     3499     4632     6421   \n",
       "\n",
       "     3/18/20  3/19/20  3/20/20  3/21/20  3/22/20  3/23/20  3/24/20  \n",
       "225     7783    13677    19100    25489    33276    43847    53740  \n",
       "\n",
       "[1 rows x 67 columns]"
      ]
     },
     "execution_count": 139,
     "metadata": {},
     "output_type": "execute_result"
    }
   ],
   "source": [
    "df.loc[df['Country/Region'] == 'US']"
   ]
  },
  {
   "cell_type": "code",
   "execution_count": 140,
   "metadata": {},
   "outputs": [
    {
     "name": "stdout",
     "output_type": "stream",
     "text": [
      "225\n"
     ]
    }
   ],
   "source": [
    "rownum = df.loc[df['Country/Region'] == 'US'].index[0]\n",
    "print(rownum)"
   ]
  },
  {
   "cell_type": "code",
   "execution_count": 141,
   "metadata": {},
   "outputs": [
    {
     "name": "stdout",
     "output_type": "stream",
     "text": [
      "Province/State    NaN\n",
      "Country/Region     US\n",
      "Name: 225, dtype: object ['3/1/20', '3/2/20', '3/3/20', '3/4/20', '3/5/20', '3/6/20', '3/7/20', '3/8/20', '3/9/20', '3/10/20', '3/11/20', '3/12/20', '3/13/20', '3/14/20', '3/15/20', '3/16/20', '3/17/20', '3/18/20', '3/19/20', '3/20/20', '3/21/20', '3/22/20', '3/23/20', '3/24/20'] 3/1/20        74\n",
      "3/2/20        98\n",
      "3/3/20       118\n",
      "3/4/20       149\n",
      "3/5/20       217\n",
      "3/6/20       262\n",
      "3/7/20       402\n",
      "3/8/20       518\n",
      "3/9/20       583\n",
      "3/10/20      959\n",
      "3/11/20     1281\n",
      "3/12/20     1663\n",
      "3/13/20     2179\n",
      "3/14/20     2727\n",
      "3/15/20     3499\n",
      "3/16/20     4632\n",
      "3/17/20     6421\n",
      "3/18/20     7783\n",
      "3/19/20    13677\n",
      "3/20/20    19100\n",
      "3/21/20    25489\n",
      "3/22/20    33276\n",
      "3/23/20    43847\n",
      "3/24/20    53740\n",
      "Name: 225, dtype: object\n"
     ]
    }
   ],
   "source": [
    "#dates = ['3/1/20','3/2/20','3/3/20','3/4/20','3/5/20','3/6/20','3/7/20','3/8/20','3/9/20','3/10/20','3/11/20','3/12/20','3/13/20','3/14/20','3/15/20','3/16/20','3/17/20','3/18/20','3/19/20','3/20/20','3/21/20','3/22/20']\n",
    "#cases = df.loc[226, '3/1/20':'3/22/20']\n",
    "dates = headers[:]\n",
    "cases = df.loc[rownum, dates[0]:dates[-1]]\n",
    "state = df.loc[rownum, 'Province/State':'Country/Region']\n",
    "\n",
    "print(state,dates,cases)\n"
   ]
  },
  {
   "cell_type": "code",
   "execution_count": 142,
   "metadata": {},
   "outputs": [
    {
     "data": {
      "image/png": "[encoded data removed]",
      "text/plain": [
       "<Figure size 1296x432 with 1 Axes>"
      ]
     },
     "metadata": {
      "needs_background": "light"
     },
     "output_type": "display_data"
    }
   ],
   "source": [
    "fig = plt.figure(figsize=(18,6))\n",
    "axes = fig.add_axes([0,0,0.8,0.8])\n",
    "\n",
    "axes.plot(dates, cases, 'r--') # Create line plot with red dashed line\n",
    "plt.title('Cases over Time')\n",
    "plt.xlabel('Date')\n",
    "plt.ylabel('Cases')\n",
    "plt.xticks(rotation=90)\n",
    "plt.show()"
   ]
  },
  {
   "cell_type": "code",
   "execution_count": 143,
   "metadata": {},
   "outputs": [
    {
     "name": "stdout",
     "output_type": "stream",
     "text": [
      "[61, 62, 63, 64, 65, 66, 67, 68, 69, 70, 71, 72, 73, 74, 75, 76, 77, 78, 79, 80, 81, 82, 83, 84]\n"
     ]
    }
   ],
   "source": [
    "datetimes = [pd.to_datetime(date, infer_datetime_format=True).dayofyear for date in dates]\n",
    "print(datetimes)"
   ]
  },
  {
   "cell_type": "code",
   "execution_count": 144,
   "metadata": {},
   "outputs": [],
   "source": [
    "x = np.array(datetimes)\n",
    "y = np.array(cases)\n",
    "x=x.reshape(len(x),1)\n",
    "y=y.reshape(len(y),1)\n",
    "\n",
    "#print(x,y)"
   ]
  },
  {
   "cell_type": "code",
   "execution_count": 145,
   "metadata": {},
   "outputs": [],
   "source": [
    "# Splitting the dataset into the Training set and Test set\n",
    "from sklearn.model_selection import train_test_split \n",
    "x_trainp, x_testp, y_trainp, y_testp = train_test_split(x, y, test_size=0.2, random_state=0)"
   ]
  },
  {
   "cell_type": "code",
   "execution_count": 146,
   "metadata": {},
   "outputs": [
    {
     "data": {
      "image/png": "[encoded data removed]",
      "text/plain": [
       "<Figure size 1080x720 with 1 Axes>"
      ]
     },
     "metadata": {
      "needs_background": "light"
     },
     "output_type": "display_data"
    }
   ],
   "source": [
    "# Fitting Polynomial Regression to the dataset\n",
    "from sklearn.linear_model import LinearRegression\n",
    "from sklearn.preprocessing import PolynomialFeatures\n",
    "poly_reg = PolynomialFeatures(degree=4)\n",
    "x_poly = poly_reg.fit_transform(x)\n",
    "pol_reg = LinearRegression()\n",
    "pol_reg.fit(x_poly, y)\n",
    "\n",
    "# Visualizing the Polymonial Regression results\n",
    "def viz_polymonial():\n",
    "    fig = plt.figure(figsize=(15,10))\n",
    "    axes = fig.add_axes([0.0,0.0,0.8,0.8])\n",
    "    axes.scatter(x, y, color='red')\n",
    "    axes.plot(x, pol_reg.predict(poly_reg.fit_transform(x)), color='blue')\n",
    "    axes.ticklabel_format(useOffset=False, style='plain')    \n",
    "    #plt.scatter(x, y, color='red')\n",
    "    #plt.plot(x, pol_reg.predict(poly_reg.fit_transform(x)), color='blue')\n",
    "    plt.title('COVID-19 Cases (Polynomial Regression)')\n",
    "    plt.xlabel('Day')\n",
    "    plt.ylabel('Num')\n",
    "    plt.show()\n",
    "    return\n",
    "viz_polymonial()"
   ]
  },
  {
   "cell_type": "code",
   "execution_count": 147,
   "metadata": {},
   "outputs": [
    {
     "name": "stdout",
     "output_type": "stream",
     "text": [
      "Prediction March 30th: 90 [[187506.45620779]]\n"
     ]
    }
   ],
   "source": [
    "# March 30th Polymonial Regression Prediction (210K)\n",
    "march_30 = pd.to_datetime('03/30/2020', infer_datetime_format=True).dayofyear\n",
    "prediction_march_30 = pol_reg.predict(poly_reg.fit_transform([[march_30]]))\n",
    "print(\"Prediction March 30th:\", march_30, prediction_march_30)"
   ]
  },
  {
   "cell_type": "code",
   "execution_count": 148,
   "metadata": {},
   "outputs": [
    {
     "name": "stdout",
     "output_type": "stream",
     "text": [
      "Prediction April 27th: [[4728532.01935698]]\n"
     ]
    }
   ],
   "source": [
    "# April 27th Polymonial Regression Prediction (5.6M)\n",
    "april_27 = pd.to_datetime('04/27/2020', infer_datetime_format=True).dayofyear\n",
    "prediction_april_27 = pol_reg.predict(poly_reg.fit_transform([[april_27]]))\n",
    "print(\"Prediction April 27th:\", prediction_april_27)"
   ]
  },
  {
   "cell_type": "code",
   "execution_count": 149,
   "metadata": {},
   "outputs": [
    {
     "name": "stdout",
     "output_type": "stream",
     "text": [
      "Prediction June 1st (90 days): [[38706648.24953876]]\n"
     ]
    }
   ],
   "source": [
    "# May 29th Polymonial Regression Prediction (41M)\n",
    "jun_01 = pd.to_datetime('06/01/2020', infer_datetime_format=True).dayofyear\n",
    "prediction_jun_01 = pol_reg.predict(poly_reg.fit_transform([[jun_01]]))\n",
    "print(\"Prediction June 1st (90 days):\", prediction_jun_01)"
   ]
  },
  {
   "cell_type": "code",
   "execution_count": 181,
   "metadata": {},
   "outputs": [
    {
     "name": "stdout",
     "output_type": "stream",
     "text": [
      "['03/01/2020', '03/02/2020', '03/03/2020', '03/04/2020', '03/05/2020', '03/06/2020', '03/07/2020', '03/08/2020', '03/09/2020', '03/10/2020', '03/11/2020', '03/12/2020', '03/13/2020', '03/14/2020', '03/15/2020', '03/16/2020', '03/17/2020', '03/18/2020', '03/19/2020', '03/20/2020', '03/21/2020', '03/22/2020', '03/23/2020', '03/24/2020', '03/25/2020', '03/26/2020', '03/27/2020', '03/28/2020', '03/29/2020', '03/30/2020', '03/31/2020', '04/01/2020', '04/02/2020', '04/03/2020', '04/04/2020', '04/05/2020', '04/06/2020', '04/07/2020', '04/08/2020', '04/09/2020', '04/10/2020', '04/11/2020', '04/12/2020', '04/13/2020', '04/14/2020', '04/15/2020', '04/16/2020', '04/17/2020', '04/18/2020', '04/19/2020', '04/20/2020', '04/21/2020', '04/22/2020'] [61, 62, 63, 64, 65, 66, 67, 68, 69, 70, 71, 72, 73, 74, 75, 76, 77, 78, 79, 80, 81, 82, 83, 84, 85, 86, 87, 88, 89, 90, 91, 92, 93, 94, 95, 96, 97, 98, 99, 100, 101, 102, 103, 104, 105, 106, 107, 108, 109, 110, 111, 112, 113] [74 98 118 149 217 262 402 518 583 959 1281 1663 2179 2727 3499 4632 6421\n",
      " 7783 13677 19100 25489 33276 43847 53740 69076.91051768698\n",
      " 86083.97349487431 106090.07317361422 129426.98702822067\n",
      " 156443.71034208126 187506.45620779134 222998.6555272136 263320.9570113886\n",
      " 308891.2271806691 360144.5503643844 417533.22870131023 481526.78213925846\n",
      " 552611.9484354127 631292.6831559781 718090.1596765611 813542.769181842\n",
      " 918206.1206657086 1032653.0409313831 1157473.5745911691 1293274.9840666\n",
      " 1440681.749588469 1600335.56919677 1772895.3587406669 1959037.2518785093\n",
      " 2159454.6000779513 2374857.9726158325 2605975.1565780733\n",
      " 2853551.1568599883 3118348.1961659733]\n"
     ]
    }
   ],
   "source": [
    "import datetime\n",
    "\n",
    "#Add more days and predictions per day to the arrays and plot display\n",
    "casesfuture = cases.values\n",
    "datetimesfuture = datetimes[:]\n",
    "datesfuture = [pd.to_datetime(date, infer_datetime_format=True) for date in dates]\n",
    "nowstart = datesfuture[-1].strftime(\"%m/%d/%Y\")\n",
    "nowend = (datesfuture[-1] + datetime.timedelta(days=1)).strftime(\"%m/%d/%Y\")\n",
    "\n",
    "for dayofyear in range(datetimes[-1] + 1, datetimes[-1] + 30):\n",
    "    datetimesfuture.append(dayofyear)\n",
    "    datesfuture.append(datesfuture[-1] + datetime.timedelta(days=1)) \n",
    "    numpredict = pol_reg.predict(poly_reg.fit_transform([[dayofyear]])).item(0,0)\n",
    "    if numpredict < 0:\n",
    "        numpredict = 0.0\n",
    "    casesfuture = np.append(casesfuture, numpredict)   \n",
    "\n",
    "# Convert all datetimes to strings for xlabel\n",
    "datesfuture[:] = [date.strftime(\"%m/%d/%Y\") for date in datesfuture]\n",
    "    \n",
    "print(datesfuture, datetimesfuture, casesfuture)"
   ]
  },
  {
   "cell_type": "code",
   "execution_count": 182,
   "metadata": {},
   "outputs": [],
   "source": [
    "xfd = np.array(datesfuture)\n",
    "xfd = xfd.reshape(len(xfd),1)\n",
    "xf = np.array(datetimesfuture)\n",
    "yf = np.array(casesfuture)\n",
    "xf = xf.reshape(len(xf),1)\n",
    "yf = yf.reshape(len(yf),1)"
   ]
  },
  {
   "cell_type": "code",
   "execution_count": 183,
   "metadata": {},
   "outputs": [],
   "source": [
    "# Splitting the dataset into the Training set and Test set\n",
    "xf_trainp, xf_testp, yf_trainp, yf_testp = train_test_split(xf, yf, test_size=0.2, random_state=0)"
   ]
  },
  {
   "cell_type": "code",
   "execution_count": 184,
   "metadata": {},
   "outputs": [
    {
     "data": {
      "image/png": "[encoded data removed]",
      "text/plain": [
       "<Figure size 1080x720 with 1 Axes>"
      ]
     },
     "metadata": {
      "needs_background": "light"
     },
     "output_type": "display_data"
    }
   ],
   "source": [
    "# Fitting Polynomial Regression to the dataset\n",
    "poly_regf = PolynomialFeatures(degree=4)\n",
    "x_polyf = poly_regf.fit_transform(xf)\n",
    "pol_regf = LinearRegression()\n",
    "pol_regf.fit(x_polyf, yf)\n",
    "\n",
    "# Visualizing the Polymonial Regression results\n",
    "def vizf_polymonial():\n",
    "    fig = plt.figure(figsize=(15,10))\n",
    "    axes = fig.add_axes([0.0,0.0,0.8,0.8])\n",
    "    axes.scatter(datesfuture, yf, color='red')\n",
    "    axes.plot(datesfuture, pol_regf.predict(poly_regf.fit_transform(xf)), color='blue')\n",
    "    #axes.ticklabel_format(useOffset=False, style='plain')\n",
    "    plt.title('COVID-19 Cases US (Polynomial Regression)')\n",
    "    plt.xlabel('Day of Year')\n",
    "    plt.ylabel('Num')\n",
    "    axes.set_yticks(np.arange(0, casesfuture[-1], 100000))\n",
    "    plt.grid()\n",
    "    plt.xticks(rotation=90)\n",
    "    plt.axvspan(nowstart,nowend, color='red', alpha=0.5)\n",
    "    plt.show()\n",
    "    return\n",
    "vizf_polymonial()"
   ]
  }
 ],
 "metadata": {
  "kernelspec": {
   "display_name": "Python 3",
   "language": "python",
   "name": "python3"
  },
  "language_info": {
   "codemirror_mode": {
    "name": "ipython",
    "version": 3
   },
   "file_extension": ".py",
   "mimetype": "text/x-python",
   "name": "python",
   "nbconvert_exporter": "python",
   "pygments_lexer": "ipython3",
   "version": "3.7.6"
  }
 },
 "nbformat": 4,
 "nbformat_minor": 4
}
