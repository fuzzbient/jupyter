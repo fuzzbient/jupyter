{
 "cells": [
  {
   "cell_type": "markdown",
   "metadata": {},
   "source": [
    "# COVID-19 Time Series CSV Analysis US"
   ]
  },
  {
   "cell_type": "code",
   "execution_count": 20,
   "metadata": {},
   "outputs": [
    {
     "data": {
      "text/plain": [
       "('Documents/time_series_covid19_confirmed_global.csv',\n",
       " <http.client.HTTPMessage at 0x25ef62e1dc8>)"
      ]
     },
     "execution_count": 20,
     "metadata": {},
     "output_type": "execute_result"
    }
   ],
   "source": [
    "import matplotlib\n",
    "\n",
    "import matplotlib.pyplot as plt\n",
    "import numpy as np\n",
    "from sklearn import datasets, linear_model\n",
    "import pandas as pd\n",
    "\n",
    "import urllib.request\n",
    "\n",
    "#See:\n",
    "#https://github.com/CSSEGISandData/COVID-19/tree/master/csse_covid_19_data/csse_covid_19_time_series\n",
    "\n",
    "#Download the latest CSV file\n",
    "urllib.request.urlretrieve('https://raw.githubusercontent.com/CSSEGISandData/COVID-19/master/csse_covid_19_data/csse_covid_19_time_series/time_series_covid19_confirmed_global.csv','Documents/time_series_covid19_confirmed_global.csv')"
   ]
  },
  {
   "cell_type": "code",
   "execution_count": 21,
   "metadata": {},
   "outputs": [
    {
     "name": "stdout",
     "output_type": "stream",
     "text": [
      "  Province/State Country/Region      Lat     Long  1/22/20  1/23/20  1/24/20  \\\n",
      "0            NaN    Afghanistan  33.0000  65.0000        0        0        0   \n",
      "1            NaN        Albania  41.1533  20.1683        0        0        0   \n",
      "2            NaN        Algeria  28.0339   1.6596        0        0        0   \n",
      "3            NaN        Andorra  42.5063   1.5218        0        0        0   \n",
      "4            NaN         Angola -11.2027  17.8739        0        0        0   \n",
      "\n",
      "   1/25/20  1/26/20  1/27/20  ...  3/14/20  3/15/20  3/16/20  3/17/20  \\\n",
      "0        0        0        0  ...       11       16       21       22   \n",
      "1        0        0        0  ...       38       42       51       55   \n",
      "2        0        0        0  ...       37       48       54       60   \n",
      "3        0        0        0  ...        1        1        2       39   \n",
      "4        0        0        0  ...        0        0        0        0   \n",
      "\n",
      "   3/18/20  3/19/20  3/20/20  3/21/20  3/22/20  3/23/20  \n",
      "0       22       22       24       24       40       40  \n",
      "1       59       64       70       76       89      104  \n",
      "2       74       87       90      139      201      230  \n",
      "3       39       53       75       88      113      133  \n",
      "4        0        0        1        2        2        3  \n",
      "\n",
      "[5 rows x 66 columns]\n"
     ]
    }
   ],
   "source": [
    "time_series_file = \"Documents/time_series_covid19_confirmed_global.csv\"\n",
    "df = pd.read_csv(time_series_file)\n",
    "print(df.head())"
   ]
  },
  {
   "cell_type": "code",
   "execution_count": 22,
   "metadata": {},
   "outputs": [
    {
     "data": {
      "text/html": [
       "<div>\n",
       "<style scoped>\n",
       "    .dataframe tbody tr th:only-of-type {\n",
       "        vertical-align: middle;\n",
       "    }\n",
       "\n",
       "    .dataframe tbody tr th {\n",
       "        vertical-align: top;\n",
       "    }\n",
       "\n",
       "    .dataframe thead th {\n",
       "        text-align: right;\n",
       "    }\n",
       "</style>\n",
       "<table border=\"1\" class=\"dataframe\">\n",
       "  <thead>\n",
       "    <tr style=\"text-align: right;\">\n",
       "      <th></th>\n",
       "      <th></th>\n",
       "      <th>Lat</th>\n",
       "      <th>Long</th>\n",
       "      <th>1/22/20</th>\n",
       "      <th>1/23/20</th>\n",
       "      <th>1/24/20</th>\n",
       "      <th>1/25/20</th>\n",
       "      <th>1/26/20</th>\n",
       "      <th>1/27/20</th>\n",
       "      <th>1/28/20</th>\n",
       "      <th>1/29/20</th>\n",
       "      <th>...</th>\n",
       "      <th>3/14/20</th>\n",
       "      <th>3/15/20</th>\n",
       "      <th>3/16/20</th>\n",
       "      <th>3/17/20</th>\n",
       "      <th>3/18/20</th>\n",
       "      <th>3/19/20</th>\n",
       "      <th>3/20/20</th>\n",
       "      <th>3/21/20</th>\n",
       "      <th>3/22/20</th>\n",
       "      <th>3/23/20</th>\n",
       "    </tr>\n",
       "    <tr>\n",
       "      <th>Province/State</th>\n",
       "      <th>Country/Region</th>\n",
       "      <th></th>\n",
       "      <th></th>\n",
       "      <th></th>\n",
       "      <th></th>\n",
       "      <th></th>\n",
       "      <th></th>\n",
       "      <th></th>\n",
       "      <th></th>\n",
       "      <th></th>\n",
       "      <th></th>\n",
       "      <th></th>\n",
       "      <th></th>\n",
       "      <th></th>\n",
       "      <th></th>\n",
       "      <th></th>\n",
       "      <th></th>\n",
       "      <th></th>\n",
       "      <th></th>\n",
       "      <th></th>\n",
       "      <th></th>\n",
       "      <th></th>\n",
       "    </tr>\n",
       "  </thead>\n",
       "  <tbody>\n",
       "    <tr>\n",
       "      <th rowspan=\"11\" valign=\"top\">NaN</th>\n",
       "      <th>Afghanistan</th>\n",
       "      <td>33.000000</td>\n",
       "      <td>65.000000</td>\n",
       "      <td>0</td>\n",
       "      <td>0</td>\n",
       "      <td>0</td>\n",
       "      <td>0</td>\n",
       "      <td>0</td>\n",
       "      <td>0</td>\n",
       "      <td>0</td>\n",
       "      <td>0</td>\n",
       "      <td>...</td>\n",
       "      <td>11</td>\n",
       "      <td>16</td>\n",
       "      <td>21</td>\n",
       "      <td>22</td>\n",
       "      <td>22</td>\n",
       "      <td>22</td>\n",
       "      <td>24</td>\n",
       "      <td>24</td>\n",
       "      <td>40</td>\n",
       "      <td>40</td>\n",
       "    </tr>\n",
       "    <tr>\n",
       "      <th>Albania</th>\n",
       "      <td>41.153300</td>\n",
       "      <td>20.168300</td>\n",
       "      <td>0</td>\n",
       "      <td>0</td>\n",
       "      <td>0</td>\n",
       "      <td>0</td>\n",
       "      <td>0</td>\n",
       "      <td>0</td>\n",
       "      <td>0</td>\n",
       "      <td>0</td>\n",
       "      <td>...</td>\n",
       "      <td>38</td>\n",
       "      <td>42</td>\n",
       "      <td>51</td>\n",
       "      <td>55</td>\n",
       "      <td>59</td>\n",
       "      <td>64</td>\n",
       "      <td>70</td>\n",
       "      <td>76</td>\n",
       "      <td>89</td>\n",
       "      <td>104</td>\n",
       "    </tr>\n",
       "    <tr>\n",
       "      <th>Algeria</th>\n",
       "      <td>28.033900</td>\n",
       "      <td>1.659600</td>\n",
       "      <td>0</td>\n",
       "      <td>0</td>\n",
       "      <td>0</td>\n",
       "      <td>0</td>\n",
       "      <td>0</td>\n",
       "      <td>0</td>\n",
       "      <td>0</td>\n",
       "      <td>0</td>\n",
       "      <td>...</td>\n",
       "      <td>37</td>\n",
       "      <td>48</td>\n",
       "      <td>54</td>\n",
       "      <td>60</td>\n",
       "      <td>74</td>\n",
       "      <td>87</td>\n",
       "      <td>90</td>\n",
       "      <td>139</td>\n",
       "      <td>201</td>\n",
       "      <td>230</td>\n",
       "    </tr>\n",
       "    <tr>\n",
       "      <th>Andorra</th>\n",
       "      <td>42.506300</td>\n",
       "      <td>1.521800</td>\n",
       "      <td>0</td>\n",
       "      <td>0</td>\n",
       "      <td>0</td>\n",
       "      <td>0</td>\n",
       "      <td>0</td>\n",
       "      <td>0</td>\n",
       "      <td>0</td>\n",
       "      <td>0</td>\n",
       "      <td>...</td>\n",
       "      <td>1</td>\n",
       "      <td>1</td>\n",
       "      <td>2</td>\n",
       "      <td>39</td>\n",
       "      <td>39</td>\n",
       "      <td>53</td>\n",
       "      <td>75</td>\n",
       "      <td>88</td>\n",
       "      <td>113</td>\n",
       "      <td>133</td>\n",
       "    </tr>\n",
       "    <tr>\n",
       "      <th>Angola</th>\n",
       "      <td>-11.202700</td>\n",
       "      <td>17.873900</td>\n",
       "      <td>0</td>\n",
       "      <td>0</td>\n",
       "      <td>0</td>\n",
       "      <td>0</td>\n",
       "      <td>0</td>\n",
       "      <td>0</td>\n",
       "      <td>0</td>\n",
       "      <td>0</td>\n",
       "      <td>...</td>\n",
       "      <td>0</td>\n",
       "      <td>0</td>\n",
       "      <td>0</td>\n",
       "      <td>0</td>\n",
       "      <td>0</td>\n",
       "      <td>0</td>\n",
       "      <td>1</td>\n",
       "      <td>2</td>\n",
       "      <td>2</td>\n",
       "      <td>3</td>\n",
       "    </tr>\n",
       "    <tr>\n",
       "      <th>...</th>\n",
       "      <td>...</td>\n",
       "      <td>...</td>\n",
       "      <td>...</td>\n",
       "      <td>...</td>\n",
       "      <td>...</td>\n",
       "      <td>...</td>\n",
       "      <td>...</td>\n",
       "      <td>...</td>\n",
       "      <td>...</td>\n",
       "      <td>...</td>\n",
       "      <td>...</td>\n",
       "      <td>...</td>\n",
       "      <td>...</td>\n",
       "      <td>...</td>\n",
       "      <td>...</td>\n",
       "      <td>...</td>\n",
       "      <td>...</td>\n",
       "      <td>...</td>\n",
       "      <td>...</td>\n",
       "      <td>...</td>\n",
       "      <td>...</td>\n",
       "    </tr>\n",
       "    <tr>\n",
       "      <th>Grenada</th>\n",
       "      <td>12.116500</td>\n",
       "      <td>-61.679000</td>\n",
       "      <td>0</td>\n",
       "      <td>0</td>\n",
       "      <td>0</td>\n",
       "      <td>0</td>\n",
       "      <td>0</td>\n",
       "      <td>0</td>\n",
       "      <td>0</td>\n",
       "      <td>0</td>\n",
       "      <td>...</td>\n",
       "      <td>0</td>\n",
       "      <td>0</td>\n",
       "      <td>0</td>\n",
       "      <td>0</td>\n",
       "      <td>0</td>\n",
       "      <td>0</td>\n",
       "      <td>0</td>\n",
       "      <td>0</td>\n",
       "      <td>1</td>\n",
       "      <td>1</td>\n",
       "    </tr>\n",
       "    <tr>\n",
       "      <th>Mozambique</th>\n",
       "      <td>-18.665695</td>\n",
       "      <td>35.529562</td>\n",
       "      <td>0</td>\n",
       "      <td>0</td>\n",
       "      <td>0</td>\n",
       "      <td>0</td>\n",
       "      <td>0</td>\n",
       "      <td>0</td>\n",
       "      <td>0</td>\n",
       "      <td>0</td>\n",
       "      <td>...</td>\n",
       "      <td>0</td>\n",
       "      <td>0</td>\n",
       "      <td>0</td>\n",
       "      <td>0</td>\n",
       "      <td>0</td>\n",
       "      <td>0</td>\n",
       "      <td>0</td>\n",
       "      <td>0</td>\n",
       "      <td>1</td>\n",
       "      <td>1</td>\n",
       "    </tr>\n",
       "    <tr>\n",
       "      <th>Syria</th>\n",
       "      <td>34.802075</td>\n",
       "      <td>38.996815</td>\n",
       "      <td>0</td>\n",
       "      <td>0</td>\n",
       "      <td>0</td>\n",
       "      <td>0</td>\n",
       "      <td>0</td>\n",
       "      <td>0</td>\n",
       "      <td>0</td>\n",
       "      <td>0</td>\n",
       "      <td>...</td>\n",
       "      <td>0</td>\n",
       "      <td>0</td>\n",
       "      <td>0</td>\n",
       "      <td>0</td>\n",
       "      <td>0</td>\n",
       "      <td>0</td>\n",
       "      <td>0</td>\n",
       "      <td>0</td>\n",
       "      <td>1</td>\n",
       "      <td>1</td>\n",
       "    </tr>\n",
       "    <tr>\n",
       "      <th>Timor-Leste</th>\n",
       "      <td>-8.874217</td>\n",
       "      <td>125.727539</td>\n",
       "      <td>0</td>\n",
       "      <td>0</td>\n",
       "      <td>0</td>\n",
       "      <td>0</td>\n",
       "      <td>0</td>\n",
       "      <td>0</td>\n",
       "      <td>0</td>\n",
       "      <td>0</td>\n",
       "      <td>...</td>\n",
       "      <td>0</td>\n",
       "      <td>0</td>\n",
       "      <td>0</td>\n",
       "      <td>0</td>\n",
       "      <td>0</td>\n",
       "      <td>0</td>\n",
       "      <td>0</td>\n",
       "      <td>0</td>\n",
       "      <td>1</td>\n",
       "      <td>1</td>\n",
       "    </tr>\n",
       "    <tr>\n",
       "      <th>Belize</th>\n",
       "      <td>13.193900</td>\n",
       "      <td>-59.543200</td>\n",
       "      <td>0</td>\n",
       "      <td>0</td>\n",
       "      <td>0</td>\n",
       "      <td>0</td>\n",
       "      <td>0</td>\n",
       "      <td>0</td>\n",
       "      <td>0</td>\n",
       "      <td>0</td>\n",
       "      <td>...</td>\n",
       "      <td>0</td>\n",
       "      <td>0</td>\n",
       "      <td>0</td>\n",
       "      <td>0</td>\n",
       "      <td>0</td>\n",
       "      <td>0</td>\n",
       "      <td>0</td>\n",
       "      <td>0</td>\n",
       "      <td>0</td>\n",
       "      <td>1</td>\n",
       "    </tr>\n",
       "  </tbody>\n",
       "</table>\n",
       "<p>238 rows × 64 columns</p>\n",
       "</div>"
      ],
      "text/plain": [
       "                                     Lat        Long  1/22/20  1/23/20  \\\n",
       "Province/State Country/Region                                            \n",
       "NaN            Afghanistan     33.000000   65.000000        0        0   \n",
       "               Albania         41.153300   20.168300        0        0   \n",
       "               Algeria         28.033900    1.659600        0        0   \n",
       "               Andorra         42.506300    1.521800        0        0   \n",
       "               Angola         -11.202700   17.873900        0        0   \n",
       "...                                  ...         ...      ...      ...   \n",
       "               Grenada         12.116500  -61.679000        0        0   \n",
       "               Mozambique     -18.665695   35.529562        0        0   \n",
       "               Syria           34.802075   38.996815        0        0   \n",
       "               Timor-Leste     -8.874217  125.727539        0        0   \n",
       "               Belize          13.193900  -59.543200        0        0   \n",
       "\n",
       "                               1/24/20  1/25/20  1/26/20  1/27/20  1/28/20  \\\n",
       "Province/State Country/Region                                                \n",
       "NaN            Afghanistan           0        0        0        0        0   \n",
       "               Albania               0        0        0        0        0   \n",
       "               Algeria               0        0        0        0        0   \n",
       "               Andorra               0        0        0        0        0   \n",
       "               Angola                0        0        0        0        0   \n",
       "...                                ...      ...      ...      ...      ...   \n",
       "               Grenada               0        0        0        0        0   \n",
       "               Mozambique            0        0        0        0        0   \n",
       "               Syria                 0        0        0        0        0   \n",
       "               Timor-Leste           0        0        0        0        0   \n",
       "               Belize                0        0        0        0        0   \n",
       "\n",
       "                               1/29/20  ...  3/14/20  3/15/20  3/16/20  \\\n",
       "Province/State Country/Region           ...                              \n",
       "NaN            Afghanistan           0  ...       11       16       21   \n",
       "               Albania               0  ...       38       42       51   \n",
       "               Algeria               0  ...       37       48       54   \n",
       "               Andorra               0  ...        1        1        2   \n",
       "               Angola                0  ...        0        0        0   \n",
       "...                                ...  ...      ...      ...      ...   \n",
       "               Grenada               0  ...        0        0        0   \n",
       "               Mozambique            0  ...        0        0        0   \n",
       "               Syria                 0  ...        0        0        0   \n",
       "               Timor-Leste           0  ...        0        0        0   \n",
       "               Belize                0  ...        0        0        0   \n",
       "\n",
       "                               3/17/20  3/18/20  3/19/20  3/20/20  3/21/20  \\\n",
       "Province/State Country/Region                                                \n",
       "NaN            Afghanistan          22       22       22       24       24   \n",
       "               Albania              55       59       64       70       76   \n",
       "               Algeria              60       74       87       90      139   \n",
       "               Andorra              39       39       53       75       88   \n",
       "               Angola                0        0        0        1        2   \n",
       "...                                ...      ...      ...      ...      ...   \n",
       "               Grenada               0        0        0        0        0   \n",
       "               Mozambique            0        0        0        0        0   \n",
       "               Syria                 0        0        0        0        0   \n",
       "               Timor-Leste           0        0        0        0        0   \n",
       "               Belize                0        0        0        0        0   \n",
       "\n",
       "                               3/22/20  3/23/20  \n",
       "Province/State Country/Region                    \n",
       "NaN            Afghanistan          40       40  \n",
       "               Albania              89      104  \n",
       "               Algeria             201      230  \n",
       "               Andorra             113      133  \n",
       "               Angola                2        3  \n",
       "...                                ...      ...  \n",
       "               Grenada               1        1  \n",
       "               Mozambique            1        1  \n",
       "               Syria                 1        1  \n",
       "               Timor-Leste           1        1  \n",
       "               Belize                0        1  \n",
       "\n",
       "[238 rows x 64 columns]"
      ]
     },
     "execution_count": 22,
     "metadata": {},
     "output_type": "execute_result"
    }
   ],
   "source": [
    "df.set_index(['Province/State', 'Country/Region'])"
   ]
  },
  {
   "cell_type": "code",
   "execution_count": 23,
   "metadata": {},
   "outputs": [
    {
     "name": "stdout",
     "output_type": "stream",
     "text": [
      "['3/1/20', '3/2/20', '3/3/20', '3/4/20', '3/5/20', '3/6/20', '3/7/20', '3/8/20', '3/9/20', '3/10/20', '3/11/20', '3/12/20', '3/13/20', '3/14/20', '3/15/20', '3/16/20', '3/17/20', '3/18/20', '3/19/20', '3/20/20', '3/21/20', '3/22/20', '3/23/20']\n"
     ]
    }
   ],
   "source": [
    "#Read the dates from the headers\n",
    "headers = list(df.columns.values)\n",
    "del headers[0:43]\n",
    "print(headers)"
   ]
  },
  {
   "cell_type": "code",
   "execution_count": 24,
   "metadata": {},
   "outputs": [
    {
     "data": {
      "text/html": [
       "<div>\n",
       "<style scoped>\n",
       "    .dataframe tbody tr th:only-of-type {\n",
       "        vertical-align: middle;\n",
       "    }\n",
       "\n",
       "    .dataframe tbody tr th {\n",
       "        vertical-align: top;\n",
       "    }\n",
       "\n",
       "    .dataframe thead th {\n",
       "        text-align: right;\n",
       "    }\n",
       "</style>\n",
       "<table border=\"1\" class=\"dataframe\">\n",
       "  <thead>\n",
       "    <tr style=\"text-align: right;\">\n",
       "      <th></th>\n",
       "      <th>Province/State</th>\n",
       "      <th>Country/Region</th>\n",
       "      <th>Lat</th>\n",
       "      <th>Long</th>\n",
       "      <th>1/22/20</th>\n",
       "      <th>1/23/20</th>\n",
       "      <th>1/24/20</th>\n",
       "      <th>1/25/20</th>\n",
       "      <th>1/26/20</th>\n",
       "      <th>1/27/20</th>\n",
       "      <th>...</th>\n",
       "      <th>3/14/20</th>\n",
       "      <th>3/15/20</th>\n",
       "      <th>3/16/20</th>\n",
       "      <th>3/17/20</th>\n",
       "      <th>3/18/20</th>\n",
       "      <th>3/19/20</th>\n",
       "      <th>3/20/20</th>\n",
       "      <th>3/21/20</th>\n",
       "      <th>3/22/20</th>\n",
       "      <th>3/23/20</th>\n",
       "    </tr>\n",
       "  </thead>\n",
       "  <tbody>\n",
       "    <tr>\n",
       "      <th>225</th>\n",
       "      <td>NaN</td>\n",
       "      <td>US</td>\n",
       "      <td>37.0902</td>\n",
       "      <td>-95.7129</td>\n",
       "      <td>1</td>\n",
       "      <td>1</td>\n",
       "      <td>2</td>\n",
       "      <td>2</td>\n",
       "      <td>5</td>\n",
       "      <td>5</td>\n",
       "      <td>...</td>\n",
       "      <td>2727</td>\n",
       "      <td>3499</td>\n",
       "      <td>4632</td>\n",
       "      <td>6421</td>\n",
       "      <td>7783</td>\n",
       "      <td>13677</td>\n",
       "      <td>19100</td>\n",
       "      <td>25489</td>\n",
       "      <td>33276</td>\n",
       "      <td>43847</td>\n",
       "    </tr>\n",
       "  </tbody>\n",
       "</table>\n",
       "<p>1 rows × 66 columns</p>\n",
       "</div>"
      ],
      "text/plain": [
       "    Province/State Country/Region      Lat     Long  1/22/20  1/23/20  \\\n",
       "225            NaN             US  37.0902 -95.7129        1        1   \n",
       "\n",
       "     1/24/20  1/25/20  1/26/20  1/27/20  ...  3/14/20  3/15/20  3/16/20  \\\n",
       "225        2        2        5        5  ...     2727     3499     4632   \n",
       "\n",
       "     3/17/20  3/18/20  3/19/20  3/20/20  3/21/20  3/22/20  3/23/20  \n",
       "225     6421     7783    13677    19100    25489    33276    43847  \n",
       "\n",
       "[1 rows x 66 columns]"
      ]
     },
     "execution_count": 24,
     "metadata": {},
     "output_type": "execute_result"
    }
   ],
   "source": [
    "df.loc[df['Country/Region'] == 'US']"
   ]
  },
  {
   "cell_type": "code",
   "execution_count": 25,
   "metadata": {},
   "outputs": [
    {
     "name": "stdout",
     "output_type": "stream",
     "text": [
      "225\n"
     ]
    }
   ],
   "source": [
    "rownum = df.loc[df['Country/Region'] == 'US'].index[0]\n",
    "print(rownum)"
   ]
  },
  {
   "cell_type": "code",
   "execution_count": 26,
   "metadata": {},
   "outputs": [
    {
     "name": "stdout",
     "output_type": "stream",
     "text": [
      "Province/State    NaN\n",
      "Country/Region     US\n",
      "Name: 225, dtype: object ['3/1/20', '3/2/20', '3/3/20', '3/4/20', '3/5/20', '3/6/20', '3/7/20', '3/8/20', '3/9/20', '3/10/20', '3/11/20', '3/12/20', '3/13/20', '3/14/20', '3/15/20', '3/16/20', '3/17/20', '3/18/20', '3/19/20', '3/20/20', '3/21/20', '3/22/20', '3/23/20'] 3/1/20        74\n",
      "3/2/20        98\n",
      "3/3/20       118\n",
      "3/4/20       149\n",
      "3/5/20       217\n",
      "3/6/20       262\n",
      "3/7/20       402\n",
      "3/8/20       518\n",
      "3/9/20       583\n",
      "3/10/20      959\n",
      "3/11/20     1281\n",
      "3/12/20     1663\n",
      "3/13/20     2179\n",
      "3/14/20     2727\n",
      "3/15/20     3499\n",
      "3/16/20     4632\n",
      "3/17/20     6421\n",
      "3/18/20     7783\n",
      "3/19/20    13677\n",
      "3/20/20    19100\n",
      "3/21/20    25489\n",
      "3/22/20    33276\n",
      "3/23/20    43847\n",
      "Name: 225, dtype: object\n"
     ]
    }
   ],
   "source": [
    "#dates = ['3/1/20','3/2/20','3/3/20','3/4/20','3/5/20','3/6/20','3/7/20','3/8/20','3/9/20','3/10/20','3/11/20','3/12/20','3/13/20','3/14/20','3/15/20','3/16/20','3/17/20','3/18/20','3/19/20','3/20/20','3/21/20','3/22/20']\n",
    "#cases = df.loc[226, '3/1/20':'3/22/20']\n",
    "dates = headers\n",
    "cases = df.loc[rownum, dates[0]:dates[-1]]\n",
    "state = df.loc[rownum, 'Province/State':'Country/Region']\n",
    "\n",
    "print(state,dates,cases)\n"
   ]
  },
  {
   "cell_type": "code",
   "execution_count": 27,
   "metadata": {},
   "outputs": [
    {
     "data": {
      "image/png": "[encoded data removed]",
      "text/plain": [
       "<Figure size 1296x432 with 1 Axes>"
      ]
     },
     "metadata": {
      "needs_background": "light"
     },
     "output_type": "display_data"
    }
   ],
   "source": [
    "fig = plt.figure(figsize=(18,6))\n",
    "axes = fig.add_axes([0,0,0.8,0.8])\n",
    "\n",
    "axes.plot(dates, cases, 'r--') # Create line plot with red dashed line\n",
    "plt.title('Cases over Time')\n",
    "plt.xlabel('Date')\n",
    "plt.ylabel('Cases')\n",
    "plt.xticks(rotation=90)\n",
    "plt.show()"
   ]
  },
  {
   "cell_type": "code",
   "execution_count": 28,
   "metadata": {},
   "outputs": [
    {
     "name": "stdout",
     "output_type": "stream",
     "text": [
      "[61, 62, 63, 64, 65, 66, 67, 68, 69, 70, 71, 72, 73, 74, 75, 76, 77, 78, 79, 80, 81, 82, 83]\n"
     ]
    }
   ],
   "source": [
    "datetimes = [pd.to_datetime(date, infer_datetime_format=True).dayofyear for date in dates]\n",
    "print(datetimes)"
   ]
  },
  {
   "cell_type": "code",
   "execution_count": 29,
   "metadata": {},
   "outputs": [],
   "source": [
    "x = np.array(datetimes)\n",
    "y = np.array(cases)\n",
    "x=x.reshape(len(x),1)\n",
    "y=y.reshape(len(y),1)\n",
    "\n",
    "#print(x,y)"
   ]
  },
  {
   "cell_type": "code",
   "execution_count": 30,
   "metadata": {},
   "outputs": [],
   "source": [
    "# Splitting the dataset into the Training set and Test set\n",
    "from sklearn.model_selection import train_test_split \n",
    "x_trainp, x_testp, y_trainp, y_testp = train_test_split(x, y, test_size=0.2, random_state=0)"
   ]
  },
  {
   "cell_type": "code",
   "execution_count": 31,
   "metadata": {},
   "outputs": [
    {
     "data": {
      "image/png": "[encoded data removed]",
      "text/plain": [
       "<Figure size 432x288 with 1 Axes>"
      ]
     },
     "metadata": {
      "needs_background": "light"
     },
     "output_type": "display_data"
    }
   ],
   "source": [
    "# Fitting Polynomial Regression to the dataset\n",
    "from sklearn.linear_model import LinearRegression\n",
    "from sklearn.preprocessing import PolynomialFeatures\n",
    "poly_reg = PolynomialFeatures(degree=4)\n",
    "x_poly = poly_reg.fit_transform(x)\n",
    "pol_reg = LinearRegression()\n",
    "pol_reg.fit(x_poly, y)\n",
    "\n",
    "# Visualizing the Polymonial Regression results\n",
    "def viz_polymonial():\n",
    "    plt.scatter(x, y, color='red')\n",
    "    plt.plot(x, pol_reg.predict(poly_reg.fit_transform(x)), color='blue')\n",
    "    plt.title('COVID-19 Cases (Polynomial Regression)')\n",
    "    plt.xlabel('Day')\n",
    "    plt.ylabel('Num')\n",
    "    plt.show()\n",
    "    return\n",
    "viz_polymonial()"
   ]
  },
  {
   "cell_type": "code",
   "execution_count": 32,
   "metadata": {},
   "outputs": [
    {
     "name": "stdout",
     "output_type": "stream",
     "text": [
      "Prediction March 30th: 90 [[202596.80688732]]\n"
     ]
    }
   ],
   "source": [
    "# March 30th Polymonial Regression Prediction (210K)\n",
    "march_30 = pd.to_datetime('03/30/2020', infer_datetime_format=True).dayofyear\n",
    "prediction_march_30 = pol_reg.predict(poly_reg.fit_transform([[march_30]]))\n",
    "print(\"Prediction March 30th:\", march_30, prediction_march_30)"
   ]
  },
  {
   "cell_type": "code",
   "execution_count": 33,
   "metadata": {},
   "outputs": [
    {
     "name": "stdout",
     "output_type": "stream",
     "text": [
      "Prediction April 27th: [[5468847.04415951]]\n"
     ]
    }
   ],
   "source": [
    "# April 27th Polymonial Regression Prediction (5.6M)\n",
    "april_27 = pd.to_datetime('04/27/2020', infer_datetime_format=True).dayofyear\n",
    "prediction_april_27 = pol_reg.predict(poly_reg.fit_transform([[april_27]]))\n",
    "print(\"Prediction April 27th:\", prediction_april_27)"
   ]
  },
  {
   "cell_type": "code",
   "execution_count": 34,
   "metadata": {},
   "outputs": [
    {
     "name": "stdout",
     "output_type": "stream",
     "text": [
      "Prediction June 1st (90 days): [[45773103.60111295]]\n"
     ]
    }
   ],
   "source": [
    "# May 29th Polymonial Regression Prediction (41M)\n",
    "jun_01 = pd.to_datetime('06/01/2020', infer_datetime_format=True).dayofyear\n",
    "prediction_jun_01 = pol_reg.predict(poly_reg.fit_transform([[jun_01]]))\n",
    "print(\"Prediction June 1st (90 days):\", prediction_jun_01)"
   ]
  },
  {
   "cell_type": "code",
   "execution_count": 35,
   "metadata": {},
   "outputs": [
    {
     "name": "stdout",
     "output_type": "stream",
     "text": [
      "[61, 62, 63, 64, 65, 66, 67, 68, 69, 70, 71, 72, 73, 74, 75, 76, 77, 78, 79, 80, 81, 82, 83, 84, 85, 86, 87, 88, 89, 90, 91, 92, 93, 94, 95, 96, 97, 98, 99, 100, 101, 102, 103, 104, 105, 106, 107, 108, 109, 110, 111, 112, 113, 114, 115, 116, 117, 118, 119, 120, 121, 122, 123, 124, 125, 126, 127, 128, 129, 130, 131, 132, 133, 134, 135, 136, 137, 138, 139, 140, 141, 142, 143, 144, 145, 146, 147, 148, 149, 150, 151, 152, 153, 154, 155, 156, 157, 158, 159, 160, 161, 162, 163, 164, 165, 166, 167, 168, 169, 170, 171, 172] [74 98 118 149 217 262 402 518 583 959 1281 1663 2179 2727 3499 4632 6421\n",
      " 7783 13677 19100 25489 33276 43847 56702.57955307141 72162.92919750884\n",
      " 90651.27931389585 112537.4740379937 138212.37348384783 168087.85374351218\n",
      " 202596.80688731745 242193.14096374437 287351.77999936417\n",
      " 338568.66399904713 396360.74894565716 461266.00680032745\n",
      " 533843.4255023189 614673.0089690872 704355.7770962454 803513.76575749\n",
      " 912790.0268047787 1032848.6280681975 1164374.6533559896 1308074.202454526\n",
      " 1464674.3911284097 1634923.351120431 1819590.2301514037\n",
      " 2019465.1919203438 2235359.416104514 2468105.09835938 2718555.4503184594\n",
      " 2987584.699593369 3276088.0897739716 3584981.8804283626 3915203.347102765\n",
      " 4267710.781321485 4643483.49058703 5043521.798380125 5468847.0441595055\n",
      " 5920501.58336233 6399548.787403706 6907073.043676931 7444179.7555535175\n",
      " 8011995.3423830755 8611667.239493508 9244363.898190755 9911274.785758961\n",
      " 10613610.385460395 11352602.196535576 12129502.73420306\n",
      " 12945585.529659767 13802145.13008048 14700497.098618556\n",
      " 15641978.014404941 16627945.472549338 17659778.084139306\n",
      " 18738875.476240505 19866658.29189687 21044568.19013073 22274067.84594198\n",
      " 23556640.950309236 24893792.210189212 26287047.348516334\n",
      " 27737953.10420366 29248077.232142348 30819008.503201474 32452356.70422857\n",
      " 34149752.6380489 35912848.123466566 37743315.995263085 39642850.1041988\n",
      " 41613165.31701164 43655997.5164182 45773103.60111295 47966261.48576854\n",
      " 50237270.10103576 52587949.39354347 55020140.32589935 57535704.876688346\n",
      " 60136526.04047416 62824507.827797994 65601575.26518045 68469674.39511894\n",
      " 71430772.2760896 74486856.98254709 77639937.60492359 80892044.24962996\n",
      " 84245228.03905474 87701561.11156498 91263136.62150608 94932068.73920093\n",
      " 98710492.65095137 102600564.55903672]\n"
     ]
    }
   ],
   "source": [
    "#Add more days and predictions per day to the arrays and plot display\n",
    "casesfuture = cases.values\n",
    "datetimesfuture = datetimes[:]\n",
    "  \n",
    "\n",
    "for dayofyear in range(datetimes[-1] + 1, datetimes[-1] + 90):\n",
    "    datetimesfuture.append(dayofyear)\n",
    "    numpredict = pol_reg.predict(poly_reg.fit_transform([[dayofyear]])).item(0,0)\n",
    "    if numpredict < 0:\n",
    "        numpredict = 0.0\n",
    "    casesfuture = np.append(casesfuture, numpredict)   \n",
    "\n",
    "print(datetimesfuture, casesfuture)"
   ]
  },
  {
   "cell_type": "code",
   "execution_count": 36,
   "metadata": {},
   "outputs": [],
   "source": [
    "xf = np.array(datetimesfuture)\n",
    "yf = np.array(casesfuture)\n",
    "xf=xf.reshape(len(xf),1)\n",
    "yf=yf.reshape(len(yf),1)\n",
    "\n",
    "#print(xf,yf)"
   ]
  },
  {
   "cell_type": "code",
   "execution_count": 37,
   "metadata": {},
   "outputs": [],
   "source": [
    "# Splitting the dataset into the Training set and Test set\n",
    "xf_trainp, xf_testp, yf_trainp, yf_testp = train_test_split(xf, yf, test_size=0.2, random_state=0)"
   ]
  },
  {
   "cell_type": "code",
   "execution_count": 38,
   "metadata": {},
   "outputs": [
    {
     "data": {
      "image/png": "[encoded data removed]",
      "text/plain": [
       "<Figure size 1080x720 with 1 Axes>"
      ]
     },
     "metadata": {
      "needs_background": "light"
     },
     "output_type": "display_data"
    }
   ],
   "source": [
    "# Fitting Polynomial Regression to the dataset\n",
    "poly_regf = PolynomialFeatures(degree=4)\n",
    "x_polyf = poly_regf.fit_transform(xf)\n",
    "pol_regf = LinearRegression()\n",
    "pol_regf.fit(x_polyf, yf)\n",
    "\n",
    "# Visualizing the Polymonial Regression results\n",
    "def vizf_polymonial():\n",
    "    fig = plt.figure(figsize=(15,10))\n",
    "    axes = fig.add_axes([0.0,0.0,0.8,0.8])\n",
    "    axes.scatter(xf, yf, color='red')\n",
    "    axes.plot(xf, pol_regf.predict(poly_regf.fit_transform(xf)), color='blue')\n",
    "    axes.ticklabel_format(useOffset=False, style='plain')\n",
    "    plt.title('COVID-19 Cases US (Polynomial Regression)')\n",
    "    plt.xlabel('Day of Year')\n",
    "    plt.ylabel('Num')\n",
    "    plt.show()\n",
    "    return\n",
    "vizf_polymonial()"
   ]
  }
 ],
 "metadata": {
  "kernelspec": {
   "display_name": "Python 3",
   "language": "python",
   "name": "python3"
  },
  "language_info": {
   "codemirror_mode": {
    "name": "ipython",
    "version": 3
   },
   "file_extension": ".py",
   "mimetype": "text/x-python",
   "name": "python",
   "nbconvert_exporter": "python",
   "pygments_lexer": "ipython3",
   "version": "3.7.6"
  }
 },
 "nbformat": 4,
 "nbformat_minor": 4
}
