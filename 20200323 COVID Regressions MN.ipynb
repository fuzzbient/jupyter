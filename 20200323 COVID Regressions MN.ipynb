{
 "cells": [
  {
   "cell_type": "markdown",
   "metadata": {},
   "source": [
    "# COVID-19 Time Series CSV Analysis MN"
   ]
  },
  {
   "cell_type": "code",
   "execution_count": 20,
   "metadata": {},
   "outputs": [
    {
     "data": {
      "text/plain": [
       "('Documents/time_series_19-covid-Confirmed.csv',\n",
       " <http.client.HTTPMessage at 0x1d462626f88>)"
      ]
     },
     "execution_count": 20,
     "metadata": {},
     "output_type": "execute_result"
    }
   ],
   "source": [
    "import matplotlib\n",
    "\n",
    "import matplotlib.pyplot as plt\n",
    "import numpy as np\n",
    "from sklearn import datasets, linear_model\n",
    "import pandas as pd\n",
    "\n",
    "import urllib.request\n",
    "\n",
    "#See:\n",
    "#https://github.com/CSSEGISandData/COVID-19/tree/master/csse_covid_19_data/csse_covid_19_time_series\n",
    "\n",
    "#Download the latest CSV file\n",
    "urllib.request.urlretrieve('https://raw.githubusercontent.com/CSSEGISandData/COVID-19/master/csse_covid_19_data/csse_covid_19_time_series/time_series_19-covid-Confirmed.csv','Documents/time_series_19-covid-Confirmed.csv')"
   ]
  },
  {
   "cell_type": "code",
   "execution_count": 21,
   "metadata": {},
   "outputs": [
    {
     "name": "stdout",
     "output_type": "stream",
     "text": [
      "  Province/State Country/Region      Lat      Long  1/22/20  1/23/20  1/24/20  \\\n",
      "0            NaN       Thailand  15.0000  101.0000        2        3        5   \n",
      "1            NaN          Japan  36.0000  138.0000        2        1        2   \n",
      "2            NaN      Singapore   1.2833  103.8333        0        1        3   \n",
      "3            NaN          Nepal  28.1667   84.2500        0        0        0   \n",
      "4            NaN       Malaysia   2.5000  112.5000        0        0        0   \n",
      "\n",
      "   1/25/20  1/26/20  1/27/20  ...  3/14/20  3/15/20  3/16/20  3/17/20  \\\n",
      "0        7        8        8  ...       82      114      147      177   \n",
      "1        2        4        4  ...      773      839      825      878   \n",
      "2        3        4        5  ...      212      226      243      266   \n",
      "3        1        1        1  ...        1        1        1        1   \n",
      "4        3        4        4  ...      238      428      566      673   \n",
      "\n",
      "   3/18/20  3/19/20  3/20/20  3/21/20  3/22/20  3/23/20  \n",
      "0      212      272      322      411      599    599.0  \n",
      "1      889      924      963     1007     1086   1086.0  \n",
      "2      313      345      385      432      455    455.0  \n",
      "3        1        1        1        1        2      2.0  \n",
      "4      790      900     1030     1183     1306   1306.0  \n",
      "\n",
      "[5 rows x 66 columns]\n"
     ]
    }
   ],
   "source": [
    "time_series_file = \"Documents/time_series_19-covid-Confirmed.csv\"\n",
    "df = pd.read_csv(time_series_file)\n",
    "print(df.head())"
   ]
  },
  {
   "cell_type": "code",
   "execution_count": 22,
   "metadata": {},
   "outputs": [
    {
     "data": {
      "text/html": [
       "<div>\n",
       "<style scoped>\n",
       "    .dataframe tbody tr th:only-of-type {\n",
       "        vertical-align: middle;\n",
       "    }\n",
       "\n",
       "    .dataframe tbody tr th {\n",
       "        vertical-align: top;\n",
       "    }\n",
       "\n",
       "    .dataframe thead th {\n",
       "        text-align: right;\n",
       "    }\n",
       "</style>\n",
       "<table border=\"1\" class=\"dataframe\">\n",
       "  <thead>\n",
       "    <tr style=\"text-align: right;\">\n",
       "      <th></th>\n",
       "      <th></th>\n",
       "      <th>Lat</th>\n",
       "      <th>Long</th>\n",
       "      <th>1/22/20</th>\n",
       "      <th>1/23/20</th>\n",
       "      <th>1/24/20</th>\n",
       "      <th>1/25/20</th>\n",
       "      <th>1/26/20</th>\n",
       "      <th>1/27/20</th>\n",
       "      <th>1/28/20</th>\n",
       "      <th>1/29/20</th>\n",
       "      <th>...</th>\n",
       "      <th>3/14/20</th>\n",
       "      <th>3/15/20</th>\n",
       "      <th>3/16/20</th>\n",
       "      <th>3/17/20</th>\n",
       "      <th>3/18/20</th>\n",
       "      <th>3/19/20</th>\n",
       "      <th>3/20/20</th>\n",
       "      <th>3/21/20</th>\n",
       "      <th>3/22/20</th>\n",
       "      <th>3/23/20</th>\n",
       "    </tr>\n",
       "    <tr>\n",
       "      <th>Province/State</th>\n",
       "      <th>Country/Region</th>\n",
       "      <th></th>\n",
       "      <th></th>\n",
       "      <th></th>\n",
       "      <th></th>\n",
       "      <th></th>\n",
       "      <th></th>\n",
       "      <th></th>\n",
       "      <th></th>\n",
       "      <th></th>\n",
       "      <th></th>\n",
       "      <th></th>\n",
       "      <th></th>\n",
       "      <th></th>\n",
       "      <th></th>\n",
       "      <th></th>\n",
       "      <th></th>\n",
       "      <th></th>\n",
       "      <th></th>\n",
       "      <th></th>\n",
       "      <th></th>\n",
       "      <th></th>\n",
       "    </tr>\n",
       "  </thead>\n",
       "  <tbody>\n",
       "    <tr>\n",
       "      <th rowspan=\"11\" valign=\"top\">NaN</th>\n",
       "      <th>Thailand</th>\n",
       "      <td>15.0000</td>\n",
       "      <td>101.0000</td>\n",
       "      <td>2</td>\n",
       "      <td>3</td>\n",
       "      <td>5</td>\n",
       "      <td>7</td>\n",
       "      <td>8</td>\n",
       "      <td>8</td>\n",
       "      <td>14</td>\n",
       "      <td>14</td>\n",
       "      <td>...</td>\n",
       "      <td>82</td>\n",
       "      <td>114</td>\n",
       "      <td>147</td>\n",
       "      <td>177</td>\n",
       "      <td>212</td>\n",
       "      <td>272</td>\n",
       "      <td>322</td>\n",
       "      <td>411</td>\n",
       "      <td>599</td>\n",
       "      <td>599.0</td>\n",
       "    </tr>\n",
       "    <tr>\n",
       "      <th>Japan</th>\n",
       "      <td>36.0000</td>\n",
       "      <td>138.0000</td>\n",
       "      <td>2</td>\n",
       "      <td>1</td>\n",
       "      <td>2</td>\n",
       "      <td>2</td>\n",
       "      <td>4</td>\n",
       "      <td>4</td>\n",
       "      <td>7</td>\n",
       "      <td>7</td>\n",
       "      <td>...</td>\n",
       "      <td>773</td>\n",
       "      <td>839</td>\n",
       "      <td>825</td>\n",
       "      <td>878</td>\n",
       "      <td>889</td>\n",
       "      <td>924</td>\n",
       "      <td>963</td>\n",
       "      <td>1007</td>\n",
       "      <td>1086</td>\n",
       "      <td>1086.0</td>\n",
       "    </tr>\n",
       "    <tr>\n",
       "      <th>Singapore</th>\n",
       "      <td>1.2833</td>\n",
       "      <td>103.8333</td>\n",
       "      <td>0</td>\n",
       "      <td>1</td>\n",
       "      <td>3</td>\n",
       "      <td>3</td>\n",
       "      <td>4</td>\n",
       "      <td>5</td>\n",
       "      <td>7</td>\n",
       "      <td>7</td>\n",
       "      <td>...</td>\n",
       "      <td>212</td>\n",
       "      <td>226</td>\n",
       "      <td>243</td>\n",
       "      <td>266</td>\n",
       "      <td>313</td>\n",
       "      <td>345</td>\n",
       "      <td>385</td>\n",
       "      <td>432</td>\n",
       "      <td>455</td>\n",
       "      <td>455.0</td>\n",
       "    </tr>\n",
       "    <tr>\n",
       "      <th>Nepal</th>\n",
       "      <td>28.1667</td>\n",
       "      <td>84.2500</td>\n",
       "      <td>0</td>\n",
       "      <td>0</td>\n",
       "      <td>0</td>\n",
       "      <td>1</td>\n",
       "      <td>1</td>\n",
       "      <td>1</td>\n",
       "      <td>1</td>\n",
       "      <td>1</td>\n",
       "      <td>...</td>\n",
       "      <td>1</td>\n",
       "      <td>1</td>\n",
       "      <td>1</td>\n",
       "      <td>1</td>\n",
       "      <td>1</td>\n",
       "      <td>1</td>\n",
       "      <td>1</td>\n",
       "      <td>1</td>\n",
       "      <td>2</td>\n",
       "      <td>2.0</td>\n",
       "    </tr>\n",
       "    <tr>\n",
       "      <th>Malaysia</th>\n",
       "      <td>2.5000</td>\n",
       "      <td>112.5000</td>\n",
       "      <td>0</td>\n",
       "      <td>0</td>\n",
       "      <td>0</td>\n",
       "      <td>3</td>\n",
       "      <td>4</td>\n",
       "      <td>4</td>\n",
       "      <td>4</td>\n",
       "      <td>7</td>\n",
       "      <td>...</td>\n",
       "      <td>238</td>\n",
       "      <td>428</td>\n",
       "      <td>566</td>\n",
       "      <td>673</td>\n",
       "      <td>790</td>\n",
       "      <td>900</td>\n",
       "      <td>1030</td>\n",
       "      <td>1183</td>\n",
       "      <td>1306</td>\n",
       "      <td>1306.0</td>\n",
       "    </tr>\n",
       "    <tr>\n",
       "      <th>...</th>\n",
       "      <td>...</td>\n",
       "      <td>...</td>\n",
       "      <td>...</td>\n",
       "      <td>...</td>\n",
       "      <td>...</td>\n",
       "      <td>...</td>\n",
       "      <td>...</td>\n",
       "      <td>...</td>\n",
       "      <td>...</td>\n",
       "      <td>...</td>\n",
       "      <td>...</td>\n",
       "      <td>...</td>\n",
       "      <td>...</td>\n",
       "      <td>...</td>\n",
       "      <td>...</td>\n",
       "      <td>...</td>\n",
       "      <td>...</td>\n",
       "      <td>...</td>\n",
       "      <td>...</td>\n",
       "      <td>...</td>\n",
       "      <td>...</td>\n",
       "    </tr>\n",
       "    <tr>\n",
       "      <th>Jersey</th>\n",
       "      <td>49.1900</td>\n",
       "      <td>-2.1100</td>\n",
       "      <td>0</td>\n",
       "      <td>0</td>\n",
       "      <td>0</td>\n",
       "      <td>0</td>\n",
       "      <td>0</td>\n",
       "      <td>0</td>\n",
       "      <td>0</td>\n",
       "      <td>0</td>\n",
       "      <td>...</td>\n",
       "      <td>0</td>\n",
       "      <td>0</td>\n",
       "      <td>0</td>\n",
       "      <td>0</td>\n",
       "      <td>0</td>\n",
       "      <td>0</td>\n",
       "      <td>0</td>\n",
       "      <td>0</td>\n",
       "      <td>0</td>\n",
       "      <td>0.0</td>\n",
       "    </tr>\n",
       "    <tr>\n",
       "      <th>Puerto Rico</th>\n",
       "      <td>18.2000</td>\n",
       "      <td>-66.5000</td>\n",
       "      <td>0</td>\n",
       "      <td>0</td>\n",
       "      <td>0</td>\n",
       "      <td>0</td>\n",
       "      <td>0</td>\n",
       "      <td>0</td>\n",
       "      <td>0</td>\n",
       "      <td>0</td>\n",
       "      <td>...</td>\n",
       "      <td>0</td>\n",
       "      <td>0</td>\n",
       "      <td>0</td>\n",
       "      <td>0</td>\n",
       "      <td>0</td>\n",
       "      <td>0</td>\n",
       "      <td>0</td>\n",
       "      <td>0</td>\n",
       "      <td>0</td>\n",
       "      <td>0.0</td>\n",
       "    </tr>\n",
       "    <tr>\n",
       "      <th>Republic of the Congo</th>\n",
       "      <td>-1.4400</td>\n",
       "      <td>15.5560</td>\n",
       "      <td>0</td>\n",
       "      <td>0</td>\n",
       "      <td>0</td>\n",
       "      <td>0</td>\n",
       "      <td>0</td>\n",
       "      <td>0</td>\n",
       "      <td>0</td>\n",
       "      <td>0</td>\n",
       "      <td>...</td>\n",
       "      <td>0</td>\n",
       "      <td>0</td>\n",
       "      <td>0</td>\n",
       "      <td>0</td>\n",
       "      <td>0</td>\n",
       "      <td>0</td>\n",
       "      <td>0</td>\n",
       "      <td>0</td>\n",
       "      <td>0</td>\n",
       "      <td>0.0</td>\n",
       "    </tr>\n",
       "    <tr>\n",
       "      <th>The Bahamas</th>\n",
       "      <td>24.2500</td>\n",
       "      <td>-76.0000</td>\n",
       "      <td>0</td>\n",
       "      <td>0</td>\n",
       "      <td>0</td>\n",
       "      <td>0</td>\n",
       "      <td>0</td>\n",
       "      <td>0</td>\n",
       "      <td>0</td>\n",
       "      <td>0</td>\n",
       "      <td>...</td>\n",
       "      <td>0</td>\n",
       "      <td>0</td>\n",
       "      <td>0</td>\n",
       "      <td>0</td>\n",
       "      <td>0</td>\n",
       "      <td>0</td>\n",
       "      <td>0</td>\n",
       "      <td>0</td>\n",
       "      <td>0</td>\n",
       "      <td>0.0</td>\n",
       "    </tr>\n",
       "    <tr>\n",
       "      <th>The Gambia</th>\n",
       "      <td>13.4667</td>\n",
       "      <td>-16.6000</td>\n",
       "      <td>0</td>\n",
       "      <td>0</td>\n",
       "      <td>0</td>\n",
       "      <td>0</td>\n",
       "      <td>0</td>\n",
       "      <td>0</td>\n",
       "      <td>0</td>\n",
       "      <td>0</td>\n",
       "      <td>...</td>\n",
       "      <td>0</td>\n",
       "      <td>0</td>\n",
       "      <td>0</td>\n",
       "      <td>0</td>\n",
       "      <td>0</td>\n",
       "      <td>0</td>\n",
       "      <td>0</td>\n",
       "      <td>0</td>\n",
       "      <td>0</td>\n",
       "      <td>0.0</td>\n",
       "    </tr>\n",
       "  </tbody>\n",
       "</table>\n",
       "<p>501 rows × 64 columns</p>\n",
       "</div>"
      ],
      "text/plain": [
       "                                          Lat      Long  1/22/20  1/23/20  \\\n",
       "Province/State Country/Region                                               \n",
       "NaN            Thailand               15.0000  101.0000        2        3   \n",
       "               Japan                  36.0000  138.0000        2        1   \n",
       "               Singapore               1.2833  103.8333        0        1   \n",
       "               Nepal                  28.1667   84.2500        0        0   \n",
       "               Malaysia                2.5000  112.5000        0        0   \n",
       "...                                       ...       ...      ...      ...   \n",
       "               Jersey                 49.1900   -2.1100        0        0   \n",
       "               Puerto Rico            18.2000  -66.5000        0        0   \n",
       "               Republic of the Congo  -1.4400   15.5560        0        0   \n",
       "               The Bahamas            24.2500  -76.0000        0        0   \n",
       "               The Gambia             13.4667  -16.6000        0        0   \n",
       "\n",
       "                                      1/24/20  1/25/20  1/26/20  1/27/20  \\\n",
       "Province/State Country/Region                                              \n",
       "NaN            Thailand                     5        7        8        8   \n",
       "               Japan                        2        2        4        4   \n",
       "               Singapore                    3        3        4        5   \n",
       "               Nepal                        0        1        1        1   \n",
       "               Malaysia                     0        3        4        4   \n",
       "...                                       ...      ...      ...      ...   \n",
       "               Jersey                       0        0        0        0   \n",
       "               Puerto Rico                  0        0        0        0   \n",
       "               Republic of the Congo        0        0        0        0   \n",
       "               The Bahamas                  0        0        0        0   \n",
       "               The Gambia                   0        0        0        0   \n",
       "\n",
       "                                      1/28/20  1/29/20  ...  3/14/20  3/15/20  \\\n",
       "Province/State Country/Region                           ...                     \n",
       "NaN            Thailand                    14       14  ...       82      114   \n",
       "               Japan                        7        7  ...      773      839   \n",
       "               Singapore                    7        7  ...      212      226   \n",
       "               Nepal                        1        1  ...        1        1   \n",
       "               Malaysia                     4        7  ...      238      428   \n",
       "...                                       ...      ...  ...      ...      ...   \n",
       "               Jersey                       0        0  ...        0        0   \n",
       "               Puerto Rico                  0        0  ...        0        0   \n",
       "               Republic of the Congo        0        0  ...        0        0   \n",
       "               The Bahamas                  0        0  ...        0        0   \n",
       "               The Gambia                   0        0  ...        0        0   \n",
       "\n",
       "                                      3/16/20  3/17/20  3/18/20  3/19/20  \\\n",
       "Province/State Country/Region                                              \n",
       "NaN            Thailand                   147      177      212      272   \n",
       "               Japan                      825      878      889      924   \n",
       "               Singapore                  243      266      313      345   \n",
       "               Nepal                        1        1        1        1   \n",
       "               Malaysia                   566      673      790      900   \n",
       "...                                       ...      ...      ...      ...   \n",
       "               Jersey                       0        0        0        0   \n",
       "               Puerto Rico                  0        0        0        0   \n",
       "               Republic of the Congo        0        0        0        0   \n",
       "               The Bahamas                  0        0        0        0   \n",
       "               The Gambia                   0        0        0        0   \n",
       "\n",
       "                                      3/20/20  3/21/20  3/22/20  3/23/20  \n",
       "Province/State Country/Region                                             \n",
       "NaN            Thailand                   322      411      599    599.0  \n",
       "               Japan                      963     1007     1086   1086.0  \n",
       "               Singapore                  385      432      455    455.0  \n",
       "               Nepal                        1        1        2      2.0  \n",
       "               Malaysia                  1030     1183     1306   1306.0  \n",
       "...                                       ...      ...      ...      ...  \n",
       "               Jersey                       0        0        0      0.0  \n",
       "               Puerto Rico                  0        0        0      0.0  \n",
       "               Republic of the Congo        0        0        0      0.0  \n",
       "               The Bahamas                  0        0        0      0.0  \n",
       "               The Gambia                   0        0        0      0.0  \n",
       "\n",
       "[501 rows x 64 columns]"
      ]
     },
     "execution_count": 22,
     "metadata": {},
     "output_type": "execute_result"
    }
   ],
   "source": [
    "df.set_index(['Province/State', 'Country/Region'])"
   ]
  },
  {
   "cell_type": "code",
   "execution_count": 23,
   "metadata": {},
   "outputs": [
    {
     "name": "stdout",
     "output_type": "stream",
     "text": [
      "['3/1/20', '3/2/20', '3/3/20', '3/4/20', '3/5/20', '3/6/20', '3/7/20', '3/8/20', '3/9/20', '3/10/20', '3/11/20', '3/12/20', '3/13/20', '3/14/20', '3/15/20', '3/16/20', '3/17/20', '3/18/20', '3/19/20', '3/20/20', '3/21/20', '3/22/20', '3/23/20']\n"
     ]
    }
   ],
   "source": [
    "#Read the dates from the headers\n",
    "headers = list(df.columns.values)\n",
    "del headers[0:43]\n",
    "print(headers)"
   ]
  },
  {
   "cell_type": "code",
   "execution_count": 24,
   "metadata": {},
   "outputs": [
    {
     "data": {
      "text/html": [
       "<div>\n",
       "<style scoped>\n",
       "    .dataframe tbody tr th:only-of-type {\n",
       "        vertical-align: middle;\n",
       "    }\n",
       "\n",
       "    .dataframe tbody tr th {\n",
       "        vertical-align: top;\n",
       "    }\n",
       "\n",
       "    .dataframe thead th {\n",
       "        text-align: right;\n",
       "    }\n",
       "</style>\n",
       "<table border=\"1\" class=\"dataframe\">\n",
       "  <thead>\n",
       "    <tr style=\"text-align: right;\">\n",
       "      <th></th>\n",
       "      <th>Province/State</th>\n",
       "      <th>Country/Region</th>\n",
       "      <th>Lat</th>\n",
       "      <th>Long</th>\n",
       "      <th>1/22/20</th>\n",
       "      <th>1/23/20</th>\n",
       "      <th>1/24/20</th>\n",
       "      <th>1/25/20</th>\n",
       "      <th>1/26/20</th>\n",
       "      <th>1/27/20</th>\n",
       "      <th>...</th>\n",
       "      <th>3/14/20</th>\n",
       "      <th>3/15/20</th>\n",
       "      <th>3/16/20</th>\n",
       "      <th>3/17/20</th>\n",
       "      <th>3/18/20</th>\n",
       "      <th>3/19/20</th>\n",
       "      <th>3/20/20</th>\n",
       "      <th>3/21/20</th>\n",
       "      <th>3/22/20</th>\n",
       "      <th>3/23/20</th>\n",
       "    </tr>\n",
       "  </thead>\n",
       "  <tbody>\n",
       "    <tr>\n",
       "      <th>124</th>\n",
       "      <td>Minnesota</td>\n",
       "      <td>US</td>\n",
       "      <td>45.6945</td>\n",
       "      <td>-93.9002</td>\n",
       "      <td>0</td>\n",
       "      <td>0</td>\n",
       "      <td>0</td>\n",
       "      <td>0</td>\n",
       "      <td>0</td>\n",
       "      <td>0</td>\n",
       "      <td>...</td>\n",
       "      <td>21</td>\n",
       "      <td>35</td>\n",
       "      <td>54</td>\n",
       "      <td>60</td>\n",
       "      <td>77</td>\n",
       "      <td>89</td>\n",
       "      <td>115</td>\n",
       "      <td>138</td>\n",
       "      <td>169</td>\n",
       "      <td>169.0</td>\n",
       "    </tr>\n",
       "  </tbody>\n",
       "</table>\n",
       "<p>1 rows × 66 columns</p>\n",
       "</div>"
      ],
      "text/plain": [
       "    Province/State Country/Region      Lat     Long  1/22/20  1/23/20  \\\n",
       "124      Minnesota             US  45.6945 -93.9002        0        0   \n",
       "\n",
       "     1/24/20  1/25/20  1/26/20  1/27/20  ...  3/14/20  3/15/20  3/16/20  \\\n",
       "124        0        0        0        0  ...       21       35       54   \n",
       "\n",
       "     3/17/20  3/18/20  3/19/20  3/20/20  3/21/20  3/22/20  3/23/20  \n",
       "124       60       77       89      115      138      169    169.0  \n",
       "\n",
       "[1 rows x 66 columns]"
      ]
     },
     "execution_count": 24,
     "metadata": {},
     "output_type": "execute_result"
    }
   ],
   "source": [
    "df.loc[df['Province/State'] == 'Minnesota']"
   ]
  },
  {
   "cell_type": "code",
   "execution_count": 25,
   "metadata": {},
   "outputs": [
    {
     "name": "stdout",
     "output_type": "stream",
     "text": [
      "124\n"
     ]
    }
   ],
   "source": [
    "rownum = df.loc[df['Province/State'] == 'Minnesota'].index[0]\n",
    "print(rownum)"
   ]
  },
  {
   "cell_type": "code",
   "execution_count": 26,
   "metadata": {},
   "outputs": [
    {
     "name": "stdout",
     "output_type": "stream",
     "text": [
      "Province/State    Minnesota\n",
      "Country/Region           US\n",
      "Name: 124, dtype: object ['3/1/20', '3/2/20', '3/3/20', '3/4/20', '3/5/20', '3/6/20', '3/7/20', '3/8/20', '3/9/20', '3/10/20', '3/11/20', '3/12/20', '3/13/20', '3/14/20', '3/15/20', '3/16/20', '3/17/20', '3/18/20', '3/19/20', '3/20/20', '3/21/20', '3/22/20', '3/23/20'] 3/1/20       0\n",
      "3/2/20       0\n",
      "3/3/20       0\n",
      "3/4/20       0\n",
      "3/5/20       0\n",
      "3/6/20       0\n",
      "3/7/20       0\n",
      "3/8/20       0\n",
      "3/9/20       0\n",
      "3/10/20      3\n",
      "3/11/20      5\n",
      "3/12/20      9\n",
      "3/13/20     14\n",
      "3/14/20     21\n",
      "3/15/20     35\n",
      "3/16/20     54\n",
      "3/17/20     60\n",
      "3/18/20     77\n",
      "3/19/20     89\n",
      "3/20/20    115\n",
      "3/21/20    138\n",
      "3/22/20    169\n",
      "3/23/20    169\n",
      "Name: 124, dtype: object\n"
     ]
    }
   ],
   "source": [
    "#dates = ['3/1/20','3/2/20','3/3/20','3/4/20','3/5/20','3/6/20','3/7/20','3/8/20','3/9/20','3/10/20','3/11/20','3/12/20','3/13/20','3/14/20','3/15/20','3/16/20','3/17/20','3/18/20','3/19/20','3/20/20','3/21/20','3/22/20']\n",
    "#cases = df.loc[124, '3/1/20':'3/22/20']\n",
    "dates = headers\n",
    "cases = df.loc[rownum, dates[0]:dates[-1]]\n",
    "state = df.loc[rownum, 'Province/State':'Country/Region']\n",
    "\n",
    "print(state,dates,cases)\n"
   ]
  },
  {
   "cell_type": "code",
   "execution_count": 27,
   "metadata": {},
   "outputs": [
    {
     "data": {
      "image/png": "[encoded data removed]",
      "text/plain": [
       "<Figure size 1296x432 with 1 Axes>"
      ]
     },
     "metadata": {
      "needs_background": "light"
     },
     "output_type": "display_data"
    }
   ],
   "source": [
    "fig = plt.figure(figsize=(18,6))\n",
    "axes = fig.add_axes([0,0,0.8,0.8])\n",
    "\n",
    "axes.plot(dates, cases, 'r--') # Create line plot with red dashed line\n",
    "plt.title('Cases over Time')\n",
    "plt.xlabel('Date')\n",
    "plt.ylabel('Cases')\n",
    "plt.xticks(rotation=90)\n",
    "plt.show()"
   ]
  },
  {
   "cell_type": "code",
   "execution_count": 28,
   "metadata": {},
   "outputs": [
    {
     "name": "stdout",
     "output_type": "stream",
     "text": [
      "[61, 62, 63, 64, 65, 66, 67, 68, 69, 70, 71, 72, 73, 74, 75, 76, 77, 78, 79, 80, 81, 82, 83]\n"
     ]
    }
   ],
   "source": [
    "datetimes = [pd.to_datetime(date, infer_datetime_format=True).dayofyear for date in dates]\n",
    "print(datetimes)"
   ]
  },
  {
   "cell_type": "code",
   "execution_count": 29,
   "metadata": {},
   "outputs": [],
   "source": [
    "x = np.array(datetimes)\n",
    "y = np.array(cases)\n",
    "x=x.reshape(len(x),1)\n",
    "y=y.reshape(len(y),1)\n",
    "\n",
    "#print(x,y)"
   ]
  },
  {
   "cell_type": "code",
   "execution_count": 30,
   "metadata": {},
   "outputs": [],
   "source": [
    "# Splitting the dataset into the Training set and Test set\n",
    "from sklearn.model_selection import train_test_split \n",
    "x_trainp, x_testp, y_trainp, y_testp = train_test_split(x, y, test_size=0.2, random_state=0)"
   ]
  },
  {
   "cell_type": "code",
   "execution_count": 31,
   "metadata": {},
   "outputs": [
    {
     "data": {
      "image/png": "[encoded data removed]",
      "text/plain": [
       "<Figure size 432x288 with 1 Axes>"
      ]
     },
     "metadata": {
      "needs_background": "light"
     },
     "output_type": "display_data"
    }
   ],
   "source": [
    "# Fitting Polynomial Regression to the dataset\n",
    "from sklearn.linear_model import LinearRegression\n",
    "from sklearn.preprocessing import PolynomialFeatures\n",
    "poly_reg = PolynomialFeatures(degree=4)\n",
    "x_poly = poly_reg.fit_transform(x)\n",
    "pol_reg = LinearRegression()\n",
    "pol_reg.fit(x_poly, y)\n",
    "\n",
    "# Visualizing the Polymonial Regression results\n",
    "def viz_polymonial():\n",
    "    plt.scatter(x, y, color='red')\n",
    "    plt.plot(x, pol_reg.predict(poly_reg.fit_transform(x)), color='blue')\n",
    "    plt.title('COVID-19 Cases (Polynomial Regression)')\n",
    "    plt.xlabel('Day')\n",
    "    plt.ylabel('Num')\n",
    "    plt.show()\n",
    "    return\n",
    "viz_polymonial()"
   ]
  },
  {
   "cell_type": "code",
   "execution_count": 32,
   "metadata": {},
   "outputs": [
    {
     "name": "stdout",
     "output_type": "stream",
     "text": [
      "Prediction March 30th: 90 [[299.69420267]]\n"
     ]
    }
   ],
   "source": [
    "# March 30th Polymonial Regression Prediction (210K)\n",
    "march_30 = pd.to_datetime('03/30/2020', infer_datetime_format=True).dayofyear\n",
    "prediction_march_30 = pol_reg.predict(poly_reg.fit_transform([[march_30]]))\n",
    "print(\"Prediction March 30th:\", march_30, prediction_march_30)"
   ]
  },
  {
   "cell_type": "code",
   "execution_count": 33,
   "metadata": {},
   "outputs": [
    {
     "name": "stdout",
     "output_type": "stream",
     "text": [
      "Prediction April 27th: [[-5362.40009602]]\n"
     ]
    }
   ],
   "source": [
    "# April 27th Polymonial Regression Prediction (5.6M)\n",
    "april_27 = pd.to_datetime('04/27/2020', infer_datetime_format=True).dayofyear\n",
    "prediction_april_27 = pol_reg.predict(poly_reg.fit_transform([[april_27]]))\n",
    "print(\"Prediction April 27th:\", prediction_april_27)"
   ]
  },
  {
   "cell_type": "code",
   "execution_count": 34,
   "metadata": {},
   "outputs": [
    {
     "name": "stdout",
     "output_type": "stream",
     "text": [
      "Prediction June 1st (90 days): [[-74120.95064694]]\n"
     ]
    }
   ],
   "source": [
    "# May 29th Polymonial Regression Prediction (41M)\n",
    "jun_01 = pd.to_datetime('06/01/2020', infer_datetime_format=True).dayofyear\n",
    "prediction_jun_01 = pol_reg.predict(poly_reg.fit_transform([[jun_01]]))\n",
    "print(\"Prediction June 1st (90 days):\", prediction_jun_01)"
   ]
  },
  {
   "cell_type": "code",
   "execution_count": 35,
   "metadata": {},
   "outputs": [
    {
     "name": "stdout",
     "output_type": "stream",
     "text": [
      "[61, 62, 63, 64, 65, 66, 67, 68, 69, 70, 71, 72, 73, 74, 75, 76, 77, 78, 79, 80, 81, 82, 83, 84, 85, 86, 87, 88, 89, 90, 91, 92, 93, 94, 95, 96, 97, 98, 99, 100, 101, 102, 103, 104, 105, 106, 107, 108, 109, 110, 111, 112, 113, 114, 115, 116, 117, 118, 119, 120, 121, 122, 123, 124, 125, 126, 127, 128, 129, 130, 131, 132, 133, 134, 135, 136, 137, 138, 139, 140, 141, 142, 143, 144, 145, 146, 147, 148, 149, 150, 151, 152, 153, 154, 155, 156, 157, 158, 159, 160, 161, 162, 163, 164, 165, 166, 167, 168, 169, 170, 171, 172] [0 0 0 0 0 0 0 0 0 3 5 9 14 21 35 54 60 77 89 115 138 169 169.0\n",
      " 199.46951038944826 220.57290076139907 240.72347268469457\n",
      " 259.3540789687686 275.84687712929735 289.533329388345 299.69420267450914\n",
      " 305.5595686221932 306.30880357256683 301.07058857263473 288.9229093759641\n",
      " 268.8930564423936 239.95762493788789 201.04251473482873 151.0229304118111\n",
      " 88.72338125373062 12.917681251870818 0.0 0.0 0.0 0.0 0.0 0.0 0.0 0.0 0.0\n",
      " 0.0 0.0 0.0 0.0 0.0 0.0 0.0 0.0 0.0 0.0 0.0 0.0 0.0 0.0 0.0 0.0 0.0 0.0\n",
      " 0.0 0.0 0.0 0.0 0.0 0.0 0.0 0.0 0.0 0.0 0.0 0.0 0.0 0.0 0.0 0.0 0.0 0.0\n",
      " 0.0 0.0 0.0 0.0 0.0 0.0 0.0 0.0 0.0 0.0 0.0 0.0 0.0 0.0 0.0 0.0 0.0 0.0\n",
      " 0.0 0.0 0.0 0.0 0.0 0.0 0.0 0.0 0.0]\n"
     ]
    }
   ],
   "source": [
    "#Add more days and predictions per day to the arrays and plot display\n",
    "casesfuture = cases.values\n",
    "datetimesfuture = datetimes[:]\n",
    "  \n",
    "\n",
    "for dayofyear in range(datetimes[-1] + 1, datetimes[-1] + 90):\n",
    "    datetimesfuture.append(dayofyear)\n",
    "    numpredict = pol_reg.predict(poly_reg.fit_transform([[dayofyear]])).item(0,0)\n",
    "    if numpredict < 0:\n",
    "        numpredict = 0.0\n",
    "    casesfuture = np.append(casesfuture, numpredict)   \n",
    "\n",
    "print(datetimesfuture, casesfuture)\n"
   ]
  },
  {
   "cell_type": "code",
   "execution_count": 36,
   "metadata": {},
   "outputs": [],
   "source": [
    "xf = np.array(datetimesfuture)\n",
    "yf = np.array(casesfuture)\n",
    "xf=xf.reshape(len(xf),1)\n",
    "yf=yf.reshape(len(yf),1)\n",
    "\n",
    "#print(xf,yf)"
   ]
  },
  {
   "cell_type": "code",
   "execution_count": 37,
   "metadata": {},
   "outputs": [],
   "source": [
    "# Splitting the dataset into the Training set and Test set\n",
    "xf_trainp, xf_testp, yf_trainp, yf_testp = train_test_split(xf, yf, test_size=0.2, random_state=0)"
   ]
  },
  {
   "cell_type": "code",
   "execution_count": 38,
   "metadata": {},
   "outputs": [
    {
     "data": {
      "image/png": "[encoded data removed]",
      "text/plain": [
       "<Figure size 1080x720 with 1 Axes>"
      ]
     },
     "metadata": {
      "needs_background": "light"
     },
     "output_type": "display_data"
    }
   ],
   "source": [
    "# Fitting Polynomial Regression to the dataset\n",
    "poly_regf = PolynomialFeatures(degree=4)\n",
    "x_polyf = poly_regf.fit_transform(xf)\n",
    "pol_regf = LinearRegression()\n",
    "pol_regf.fit(x_polyf, yf)\n",
    "\n",
    "# Visualizing the Polymonial Regression results\n",
    "def vizf_polymonial():\n",
    "    fig = plt.figure(figsize=(15,10))\n",
    "    axes = fig.add_axes([0.0,0.0,0.8,0.8])\n",
    "    axes.scatter(xf, yf, color='red')\n",
    "    axes.plot(xf, pol_regf.predict(poly_regf.fit_transform(xf)), color='blue')\n",
    "    axes.ticklabel_format(useOffset=False, style='plain')\n",
    "    plt.title('COVID-19 Cases MN (Polynomial Regression)')\n",
    "    plt.xlabel('Day of Year')\n",
    "    plt.ylabel('Num')\n",
    "    plt.show()\n",
    "    return\n",
    "vizf_polymonial()"
   ]
  }
 ],
 "metadata": {
  "kernelspec": {
   "display_name": "Python 3",
   "language": "python",
   "name": "python3"
  },
  "language_info": {
   "codemirror_mode": {
    "name": "ipython",
    "version": 3
   },
   "file_extension": ".py",
   "mimetype": "text/x-python",
   "name": "python",
   "nbconvert_exporter": "python",
   "pygments_lexer": "ipython3",
   "version": "3.7.6"
  }
 },
 "nbformat": 4,
 "nbformat_minor": 4
}
